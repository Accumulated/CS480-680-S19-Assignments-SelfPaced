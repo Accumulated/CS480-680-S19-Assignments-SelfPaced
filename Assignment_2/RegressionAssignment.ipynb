{
  "nbformat": 4,
  "nbformat_minor": 0,
  "metadata": {
    "colab": {
      "name": "RegressionAssignment.ipynb",
      "provenance": [],
      "collapsed_sections": []
    },
    "kernelspec": {
      "name": "python3",
      "display_name": "Python 3"
    },
    "language_info": {
      "name": "python"
    }
  },
  "cells": [
    {
      "cell_type": "code",
      "metadata": {
        "colab": {
          "base_uri": "https://localhost:8080/"
        },
        "id": "tFewkfhFuFL1",
        "outputId": "f9c15a26-b3a9-4c74-d1de-2d60ab9886c8"
      },
      "source": [
        "from google.colab import drive\n",
        "drive.mount('/content/drive')"
      ],
      "execution_count": 1,
      "outputs": [
        {
          "output_type": "stream",
          "name": "stdout",
          "text": [
            "Mounted at /content/drive\n"
          ]
        }
      ]
    },
    {
      "cell_type": "code",
      "metadata": {
        "id": "iEZ97w8JjVQn",
        "colab": {
          "base_uri": "https://localhost:8080/",
          "height": 140
        },
        "outputId": "0d9538ad-21ab-4ebe-c1a1-f7c4979a1873"
      },
      "source": [
        "import pandas as pd\n",
        "import matplotlib.pyplot as plt  \n",
        "import numpy as np\n",
        "from numpy.linalg import norm\n",
        "import sys\n",
        "from random import seed\n",
        "from random import randint\n",
        "from sklearn.metrics import accuracy_score\n",
        "\n",
        "pd.option_context('display.max_rows', None, 'display.max_columns', None)  # more options can be specified also\n",
        "np.set_printoptions(threshold=sys.maxsize)\n",
        "seed(1)\n",
        "\n",
        "np.set_printoptions(precision=10, )\n",
        "pd.options.display.float_format = '{:.2f}'.format\n",
        "np.set_printoptions(suppress=True)\n",
        "%precision 10\n",
        "!cp -r /content/drive/MyDrive/CS_480_680_DataSets /content\n",
        "\n",
        "''' \n",
        "Dataset for K-nearest neighbour: knn-dataset.zip\n",
        "Problem: this data is a modified version of the Optical Recognition of Handwritten Digits Dataset from the UCI repository. \n",
        "It contains pre-processed black and white images of the digits 5 and 6. \n",
        "Each attribute indicates how many pixels are black in a patch of 4 x 4 pixels.\n",
        "Format: there is one row per image and one column per attribute. The class labels are 5 and 6.\n",
        "The training set is already divided into 10 subsets for 10-fold cross validation.\n",
        "\n",
        "http://archive.ics.uci.edu/ml/datasets/Optical+Recognition+of+Handwritten+Digits\n",
        "\n",
        "Data Set Information:\n",
        "\n",
        "We used preprocessing programs made available by NIST to extract normalized bitmaps of handwritten digits from a preprinted form. \n",
        "From a total of 43 people, 30 contributed to the training set and different 13 to the test set. \n",
        "32x32 bitmaps are divided into nonoverlapping blocks of 4x4 and the number of on pixels are counted in each block. \n",
        "This generates an input matrix of 8x8 where each element is an integer in the range 0..16. \n",
        "This reduces dimensionality and gives invariance to small distortions.\n",
        "\n",
        "To sum up:\n",
        "Each attribute indicates how many pixels are black in a patch of 4 x 4 pixels.\n",
        "Input matrix of 8x8 where each element is an integer in the range 0..16. \n",
        "\n",
        "'''"
      ],
      "execution_count": 2,
      "outputs": [
        {
          "output_type": "execute_result",
          "data": {
            "application/vnd.google.colaboratory.intrinsic+json": {
              "type": "string"
            },
            "text/plain": [
              "' \\nDataset for K-nearest neighbour: knn-dataset.zip\\nProblem: this data is a modified version of the Optical Recognition of Handwritten Digits Dataset from the UCI repository. \\nIt contains pre-processed black and white images of the digits 5 and 6. \\nEach attribute indicates how many pixels are black in a patch of 4 x 4 pixels.\\nFormat: there is one row per image and one column per attribute. The class labels are 5 and 6.\\nThe training set is already divided into 10 subsets for 10-fold cross validation.\\n\\nhttp://archive.ics.uci.edu/ml/datasets/Optical+Recognition+of+Handwritten+Digits\\n\\nData Set Information:\\n\\nWe used preprocessing programs made available by NIST to extract normalized bitmaps of handwritten digits from a preprinted form. \\nFrom a total of 43 people, 30 contributed to the training set and different 13 to the test set. \\n32x32 bitmaps are divided into nonoverlapping blocks of 4x4 and the number of on pixels are counted in each block. \\nThis generates an input matrix of 8x8 where each element is an integer in the range 0..16. \\nThis reduces dimensionality and gives invariance to small distortions.\\n\\nTo sum up:\\nEach attribute indicates how many pixels are black in a patch of 4 x 4 pixels.\\nInput matrix of 8x8 where each element is an integer in the range 0..16. \\n\\n'"
            ]
          },
          "metadata": {},
          "execution_count": 2
        }
      ]
    },
    {
      "cell_type": "code",
      "metadata": {
        "id": "rYhzZsU-kEX5"
      },
      "source": [
        "# train.csv dataSet\n",
        "train_1 = pd.read_csv('/content/CS_480_680_DataSets/knn_dataset/trainData1.csv', header=None)\n",
        "train_2 = pd.read_csv('/content/CS_480_680_DataSets/knn_dataset/trainData2.csv', header=None)\n",
        "train_3 = pd.read_csv('/content/CS_480_680_DataSets/knn_dataset/trainData3.csv', header=None)\n",
        "train_4 = pd.read_csv('/content/CS_480_680_DataSets/knn_dataset/trainData4.csv', header=None)\n",
        "train_5 = pd.read_csv('/content/CS_480_680_DataSets/knn_dataset/trainData5.csv', header=None)\n",
        "train_6 = pd.read_csv('/content/CS_480_680_DataSets/knn_dataset/trainData6.csv', header=None)\n",
        "train_7 = pd.read_csv('/content/CS_480_680_DataSets/knn_dataset/trainData7.csv', header=None)\n",
        "train_8 = pd.read_csv('/content/CS_480_680_DataSets/knn_dataset/trainData8.csv', header=None)\n",
        "train_9 = pd.read_csv('/content/CS_480_680_DataSets/knn_dataset/trainData9.csv', header=None)\n",
        "train_10 = pd.read_csv('/content/CS_480_680_DataSets/knn_dataset/trainData10.csv', header=None)\n",
        "test_data = pd.read_csv('/content/CS_480_680_DataSets/knn_dataset/testData.csv', header=None)\n",
        "\n",
        "train_1 = (train_1 - train_1.min())/(train_1.max()-train_1.min())\n",
        "train_2 = (train_2 - train_2.min())/(train_2.max()-train_2.min())\n",
        "train_3 = (train_3 - train_3.min())/(train_3.max()-train_3.min())\n",
        "train_4 = (train_4 - train_4.min())/(train_4.max()-train_4.min())\n",
        "train_5 = (train_5 - train_5.min())/(train_5.max()-train_5.min())\n",
        "train_6 = (train_6 - train_6.min())/(train_6.max()-train_6.min())\n",
        "train_7 = (train_7 - train_7.min())/(train_7.max()-train_7.min())\n",
        "train_8 = (train_8 - train_8.min())/(train_8.max()-train_8.min())\n",
        "train_9 = (train_9 - train_9.min())/(train_9.max()-train_9.min())\n",
        "train_10 = (train_10 - train_10.min())/(train_10.max()-train_10.min())\n",
        "test_data = (test_data - test_data.min())/(test_data.max()-test_data.min())\n",
        "\n",
        "# Labels dataSet\n",
        "labels_1 = pd.read_csv('/content/CS_480_680_DataSets/knn_dataset/trainLabels1.csv', header=None)\n",
        "labels_2 = pd.read_csv('/content/CS_480_680_DataSets/knn_dataset/trainLabels2.csv', header=None)\n",
        "labels_3 = pd.read_csv('/content/CS_480_680_DataSets/knn_dataset/trainLabels3.csv', header=None)\n",
        "labels_4 = pd.read_csv('/content/CS_480_680_DataSets/knn_dataset/trainLabels4.csv', header=None)\n",
        "labels_5 = pd.read_csv('/content/CS_480_680_DataSets/knn_dataset/trainLabels5.csv', header=None)\n",
        "labels_6 = pd.read_csv('/content/CS_480_680_DataSets/knn_dataset/trainLabels6.csv', header=None)\n",
        "labels_7 = pd.read_csv('/content/CS_480_680_DataSets/knn_dataset/trainLabels7.csv', header=None)\n",
        "labels_8 = pd.read_csv('/content/CS_480_680_DataSets/knn_dataset/trainLabels8.csv', header=None)\n",
        "labels_9 = pd.read_csv('/content/CS_480_680_DataSets/knn_dataset/trainLabels9.csv', header=None)\n",
        "labels_10 = pd.read_csv('/content/CS_480_680_DataSets/knn_dataset/trainLabels10.csv', header=None)\n",
        "test_labels = pd.read_csv('/content/CS_480_680_DataSets/knn_dataset/testLabels.csv', header=None)\n",
        "\n",
        "# Replace classes {'5' -> -1 and '6' -> 1}\n",
        "replace_labels = {5: 0, 6: 1}\n",
        "rename_features = {0: 'Label'}\n",
        "\n",
        "labels_1.replace(replace_labels, inplace=True)\n",
        "labels_2.replace(replace_labels, inplace=True)\n",
        "labels_3.replace(replace_labels, inplace=True)\n",
        "labels_4.replace(replace_labels, inplace=True)\n",
        "labels_5.replace(replace_labels, inplace=True)\n",
        "labels_6.replace(replace_labels, inplace=True)\n",
        "labels_7.replace(replace_labels, inplace=True)\n",
        "labels_8.replace(replace_labels, inplace=True)\n",
        "labels_9.replace(replace_labels, inplace=True)\n",
        "labels_10.replace(replace_labels, inplace=True)\n",
        "test_labels.replace(replace_labels, inplace=True)\n",
        "\n",
        "labels_1.rename(columns=rename_features, inplace=True)\n",
        "labels_2.rename(columns=rename_features, inplace=True)\n",
        "labels_3.rename(columns=rename_features, inplace=True)\n",
        "labels_4.rename(columns=rename_features, inplace=True)\n",
        "labels_5.rename(columns=rename_features, inplace=True)\n",
        "labels_6.rename(columns=rename_features, inplace=True)\n",
        "labels_7.rename(columns=rename_features, inplace=True)\n",
        "labels_8.rename(columns=rename_features, inplace=True)\n",
        "labels_9.rename(columns=rename_features, inplace=True)\n",
        "labels_10.rename(columns=rename_features, inplace=True)\n",
        "test_labels.rename(columns=rename_features, inplace=True)"
      ],
      "execution_count": 3,
      "outputs": []
    },
    {
      "cell_type": "code",
      "metadata": {
        "id": "1Uo4hiOIquyI"
      },
      "source": [
        "train_set = [train_1, train_2, train_3, train_4, train_5, train_6, train_7, train_8, train_9, train_10]\n",
        "labels_set = [labels_1, labels_2, labels_3, labels_4, labels_5, labels_6, labels_7, labels_8, labels_9, labels_10]"
      ],
      "execution_count": 4,
      "outputs": []
    },
    {
      "cell_type": "code",
      "metadata": {
        "id": "JH_rnH8slDpy"
      },
      "source": [
        "# Lambda from 1 to 30 values sweep\n",
        "lambda_values = np.arange(0.0, 4.1, 0.1)\n",
        "\n",
        "# Number of trainingdata splits\n",
        "k_cross = 10\n",
        "\n",
        "# List of dataFrames of the training data execluding the training data used for validation \n",
        "training_data = []\n",
        "training_labels = []\n",
        "\n",
        "# Same for validation data\n",
        "validation_data = []\n",
        "validation_labels = []\n",
        "\n",
        "# Get training data and validation data as list of dataFrames\n",
        "for i in range(k_cross):\n",
        "  sub_train = [train_set[index] for index in range(k_cross) if index != i]\n",
        "  sub_label = [labels_set[index] for index in range(k_cross) if index != i]\n",
        "  \n",
        "  # Concatenate all dataframes in the sub_train list to a single dataframe in order\n",
        "  # to get a single training examples dataFrame with all examples in it.\n",
        "  training_data.append(pd.concat(sub_train, ignore_index=True))\n",
        "  training_labels.append(pd.concat(sub_label, ignore_index=True))\n",
        "\n",
        "  validation_data.append(train_set[i])\n",
        "  validation_labels.append(labels_set[i])\n",
        "\n",
        "tot_train_data = pd.concat([training_data[0], validation_data[0]], ignore_index=True)\n",
        "tot_train_labels = pd.concat([training_labels[0], validation_labels[0]], ignore_index=True)"
      ],
      "execution_count": 5,
      "outputs": []
    },
    {
      "cell_type": "code",
      "metadata": {
        "id": "3N5xjWZClDhk"
      },
      "source": [
        "def sigmoid(w_sig, x_sig):\n",
        "  '''\n",
        "  Compute sigmoid(w.T* x) equation and return the result. Note that\n",
        "  the bias term is embedded inside the w vector\n",
        "  '''\n",
        "  return 1 / (1 + np.exp(-1 * np.dot(w_sig.T, x_sig)))\n",
        "\n",
        "def Get_PHI_Matrix(df_data_gph):\n",
        "  '''\n",
        "  This function is a helper for function Get Hessian matrix, It returns\n",
        "  a phi matrix with shape M features x N examples . However we need to consider \n",
        "  the bias term in this equation so the return matrix is (M + 1) x N, where \n",
        "  a whole row of ones is added at the very beginning of the return matrix\n",
        "  '''\n",
        "  # Get all dataset examples as an array\n",
        "  phi_ex = df_data_gph.to_numpy().T\n",
        "\n",
        "  # Get the bias stacked at the 1st row of the phi matrix (M + 1) x N\n",
        "  return np.vstack((np.ones((1, phi_ex.shape[1])), phi_ex))\n",
        "\n",
        "def Get_Weighting_Matrix(df_data_wm, weights_wm):\n",
        "  ''' \n",
        "  This function computes the weighting matrix (R) which is used\n",
        "  in order to calcaulte the Hessian matrix in the following \n",
        "  formula -> phi.T * R * phi, where phi is (M + 1) x N and \n",
        "  R is a diagonal matrix with the following parameters:\n",
        "  sigmoid(w.T * x) * (1 - sigmoid(w.T * x)).\n",
        "  R is an N x N dimensional matrix\n",
        "\n",
        "  Inputs: dataframe for all training examples, Note that the df is \n",
        "  of shape N examples * M features always.\n",
        "  weights are of shape M x 1 which is a feature column vector.\n",
        "\n",
        "  '''\n",
        "  # Number of features and number of examples\n",
        "  num_features = df_data_wm.shape[1]\n",
        "  num_examples = df_data_wm.shape[0]\n",
        "\n",
        "  # Create matrix with only 1s on main diagonal\n",
        "  R = np.identity(num_examples)\n",
        "\n",
        "  # Create a list for Rnn diagonal elements.\n",
        "  Rnn = []\n",
        "\n",
        "  for index, row in df_data_wm.iterrows():\n",
        "    # Get features for the current example (M x 1) features\n",
        "    tmp = np.array(row).reshape(num_features, 1)\n",
        "    \n",
        "    # Add bias at the beginning of the feature vector (M+1) x 1\n",
        "    tmp = np.vstack((1, tmp))\n",
        "\n",
        "    # Sigmoid scalar value\n",
        "    sig = np.squeeze(sigmoid(weights_wm, tmp))\n",
        "\n",
        "    # Diagonal elements are sigmoid * (1 - sigmoid)\n",
        "    Rnn.append(sig * (1 - sig))\n",
        "\n",
        "  # R_tmp is used for casting the values to the (N x N) matrix to have a full\n",
        "  # diagonal matrix with sigma * (1 - sigma) as the elements\n",
        "  R_tmp = np.array(Rnn).reshape(num_examples, 1)\n",
        "\n",
        "  # Cast the Coulmn vector to the matrix to get the R matrix\n",
        "  return R_tmp * R\n",
        "\n",
        "def Get_Hessian_Matrix(df_data_hs, weights_hs, lambda_val_hs):\n",
        "  '''\n",
        "  This function computes the likelihood maximization Hessian matrix used \n",
        "  in Newton's algorithm in order to make the update rule for weight vector\n",
        "  Note: Hessian equation = phi * R * phi.T + lambda * Identity matrix \n",
        "  result is of shape (M+1) x (M+1)\n",
        "  '''\n",
        "  # Get phi matrix, it's of shape (M + 1) x N\n",
        "  phi_hs = Get_PHI_Matrix(df_data_hs)\n",
        "  \n",
        "  # Get lambda * Identity matrix -> (M + 1 )x (M + 1)\n",
        "  lambda_mat_hs = np.identity(phi_hs.shape[0]) * lambda_val_hs\n",
        "  lambda_mat_hs[0][0] = 0\n",
        "\n",
        "  # Get R matrix, dim N x N\n",
        "  R_hs = Get_Weighting_Matrix(df_data_hs, weights_hs)\n",
        "\n",
        "  # Calculate the equation of Hessian matrix; ((M + 1) x N )* (N x N) * (N x (M + 1)) -> (M + 1) x (M + 1)\n",
        "  return np.dot(np.dot(phi_hs, R_hs), phi_hs.T) + lambda_mat_hs"
      ],
      "execution_count": 6,
      "outputs": []
    },
    {
      "cell_type": "code",
      "metadata": {
        "id": "pBLUTT6oa1G2"
      },
      "source": [
        "def get_gradient(true_labels_gr, pred_labels_gr, phi_mat_gr):\n",
        "  '''\n",
        "  This function is a helpre for call_gradient. It calculate the equation\n",
        "  of phi * (y - t) and returns the final gradient column vector with shape\n",
        "  of (M + 1) x 1\n",
        "  '''\n",
        "  # Get true and predected labels\n",
        "  y_gr = np.array(pred_labels_gr).reshape(true_labels_gr.shape[0], true_labels_gr.shape[1])\n",
        "  t_gr = np.array(true_labels_gr).reshape(true_labels_gr.shape[0], true_labels_gr.shape[1])\n",
        "  \n",
        "  # phi = (M + 1) x N, (y - t) = N x 1 -> result: (M + 1) x 1\n",
        "  return np.dot(phi_mat_gr, (y_gr - t_gr)) \n",
        "\n",
        "def call_gradient(weight_cg, train_df_cg, labels_df_cg, phi_cg):\n",
        "  '''\n",
        "  This function calculates the gradient for all training examples and\n",
        "  has the following equation: phi * (y - t), where phi is a matrix of \n",
        "  dim (M + 1) x N, y and t are of dim N x 1. \n",
        "\n",
        "  The return is a matrix of shape N x 1 which is the gradient used\n",
        "  to multiply the inverse of hessian and update the weight vector\n",
        "  '''\n",
        "  # Get training examples and number of features \n",
        "  num_training_exmpls = train_df_cg.shape[0]\n",
        "  num_training_features = train_df_cg.shape[1]\n",
        "\n",
        "  # List to append all the sigmoids calculated\n",
        "  y_pred_cg = []\n",
        "\n",
        "  for index, row_example in train_df_cg.iterrows():\n",
        "    # Get features for the current example (M x 1) features\n",
        "    tmp = np.array(row_example).reshape(num_training_features, 1)\n",
        "\n",
        "    # Add bias at the beginning of the feature vector (M+1) x 1\n",
        "    tmp = np.vstack((1, tmp))\n",
        "\n",
        "    # Calculate the sigmoid and append it to the list\n",
        "    y_pred_cg.append(sigmoid(weight_cg, tmp))\n",
        "\n",
        "  # Get target values from the labels dataframe\n",
        "  t_cg = labels_df_cg.to_numpy().reshape(num_training_exmpls, 1)\n",
        "\n",
        "  # Return the gradient, which is a matrix of dim (M + 1) x 1\n",
        "  return get_gradient(t_cg, y_pred_cg, phi_cg)"
      ],
      "execution_count": 7,
      "outputs": []
    },
    {
      "cell_type": "code",
      "metadata": {
        "id": "4JVeDf0YEfMk"
      },
      "source": [
        "def train_logistic(train_df_tr, labels_df_tr, lambd_tr):\n",
        "  w_tr = np.zeros((65, 1))\n",
        "\n",
        "  phi_tr = Get_PHI_Matrix(train_df_tr)\n",
        "  for k_tr in range(1, 10):\n",
        "    grad_tr = call_gradient(w_tr, train_df_tr, labels_df_tr, phi_tr)\n",
        "    grad_tr = grad_tr + 2 * lambd_tr * w_tr\n",
        "    h_tr = Get_Hessian_Matrix(train_df_tr, w_tr, 2 * lambd_tr)\n",
        "    w_tr = w_tr - 0.7 * np.dot(np.linalg.inv(h_tr), grad_tr)\n",
        "  return w_tr\n",
        "\n",
        "def predict_logistic(test_df_lp, w_lp):\n",
        "  y_pred_lp = []\n",
        "  for index, row_example in test_df_lp.iterrows():\n",
        "    # Get features for the current example (M x 1) features\n",
        "    tmp = np.array(row_example).reshape(test_df_lp.shape[1], 1)\n",
        "    # Add bias at the beginning of the feature vector (M+1) x 1\n",
        "    tmp = np.vstack((1, tmp))\n",
        "    y_pred_lp.append(sigmoid(w_lp, tmp))\n",
        "    \n",
        "  return y_pred_lp"
      ],
      "execution_count": 8,
      "outputs": []
    },
    {
      "cell_type": "code",
      "metadata": {
        "id": "I8foetTzxZEc"
      },
      "source": [
        "def get_logistic_weights(df_traing_data, df_traing_labels, lamb):\n",
        "    \n",
        "  weights_final = train_logistic(df_traing_data, df_traing_labels, lamb)\n",
        "\n",
        "  return weights_final\n",
        "\n",
        "def test_logistic_regression(df_test, df_labels, tr_weights):\n",
        "  # Get the predictions using sigmoid activation function for test data\n",
        "  y_pred = np.array(predict_logistic(df_test, tr_weights))\n",
        "\n",
        "  # Decision boundary theorem where prob >= 0.5 is class 1\n",
        "  zeros_class_indeces = y_pred >= 0.5 \n",
        "  ones_class_indeces = y_pred < 0.5 \n",
        "  y_pred[zeros_class_indeces] = 1\n",
        "  y_pred[ones_class_indeces] = 0\n",
        "\n",
        "  print(\"Test accuracy: \", accuracy_score(np.array(df_labels), np.array(np.squeeze(y_pred))) * 100)\n",
        "\n",
        "  return y_pred"
      ],
      "execution_count": 9,
      "outputs": []
    },
    {
      "cell_type": "code",
      "metadata": {
        "id": "xYybYgptxBBf"
      },
      "source": [
        "accuracy = []\n",
        "list_acc = []\n",
        "\n",
        "# Choose a certain lambda value\n",
        "for lamb in lambda_values:\n",
        "  # Use 10-fold cross validation\n",
        "  accuracy = []\n",
        "\n",
        "  # Loop over all the k-validations\n",
        "  for k in range(1, 10):\n",
        "    \n",
        "    # Get weights from training data\n",
        "    w_training = train_logistic(training_data[k], training_labels[k], lamb)\n",
        "\n",
        "    # Get the predictions using sigmoid activation function for test data\n",
        "    y_pred = np.array(predict_logistic(validation_data[k], w_training))\n",
        "    \n",
        "    # Decision boundary theorem where prob >= 0.5 is class 1\n",
        "    zeros_class_indeces = y_pred >= 0.5 \n",
        "    ones_class_indeces = y_pred < 0.5 \n",
        "    y_pred[zeros_class_indeces] = 1\n",
        "    y_pred[ones_class_indeces] = 0\n",
        "\n",
        "    accuracy.append(accuracy_score(np.array(validation_labels[k]), np.array(np.squeeze(y_pred))))\n",
        "  \n",
        "  list_acc.append(np.sum(np.array(accuracy))/k_cross)"
      ],
      "execution_count": 10,
      "outputs": []
    },
    {
      "cell_type": "code",
      "metadata": {
        "colab": {
          "base_uri": "https://localhost:8080/",
          "height": 295
        },
        "id": "Rt9uuuwd_G_R",
        "outputId": "c99a12ba-c455-4085-be6b-050cfb3eb3a3"
      },
      "source": [
        "plt.title(\"Average validation accuracy vs choice of lambda, 10-fold cross validation.\")\n",
        "plt.xlabel(\"lambda\")\n",
        "plt.ylabel(\"Accuracy\")\n",
        "plt.plot(lambda_values, list_acc)\n",
        "plt.show()"
      ],
      "execution_count": 11,
      "outputs": [
        {
          "output_type": "display_data",
          "data": {
            "image/png": "[encoded data removed]",
            "text/plain": [
              "<Figure size 432x288 with 1 Axes>"
            ]
          },
          "metadata": {
            "needs_background": "light"
          }
        }
      ]
    },
    {
      "cell_type": "code",
      "metadata": {
        "colab": {
          "base_uri": "https://localhost:8080/"
        },
        "id": "Swf9ojLntgaJ",
        "outputId": "badc3909-c557-4226-e271-8ba638941d17"
      },
      "source": [
        "plot_me = {}\n",
        "i = 0\n",
        "for ind in list_acc:\n",
        "  lambpl = lambda_values[i]\n",
        "  i += 1\n",
        "  plot_me[lambpl] = ind\n",
        "\n",
        "  \n",
        "ordered = {k: v for k, v in sorted(plot_me.items(), key=lambda item: item[1], reverse=True)}\n",
        "plot_o = list(ordered.items())\n",
        "print(\"Best lambda is at: \", plot_o[0][0], \", With average validation Accuracy: \",  plot_o[0][1])\n",
        "lambda_optimum = plot_o[0][0]"
      ],
      "execution_count": 12,
      "outputs": [
        {
          "output_type": "stream",
          "name": "stdout",
          "text": [
            "Best lambda is at:  2.5 , With average validation Accuracy:  0.785\n"
          ]
        }
      ]
    },
    {
      "cell_type": "code",
      "metadata": {
        "colab": {
          "base_uri": "https://localhost:8080/",
          "height": 374
        },
        "id": "c1hv7l5wxVoU",
        "outputId": "e6084a7d-45c5-4ef0-d0fc-f0dceb577b9a"
      },
      "source": [
        "def LogisticAPI(trainDF, labelsDF, testDF, testLabelsDF, optimum_lambda):\n",
        "\n",
        "  true_weights = get_logistic_weights(trainDF, labelsDF, optimum_lambda)\n",
        "  fina_labels_test = test_logistic_regression(testDF, testLabelsDF, true_weights)\n",
        "\n",
        "  fig = plt .figure(figsize=(15, 5))\n",
        "  plt.rcParams.update({'font.size': 12})\n",
        "  plt.ylabel('Labels')\n",
        "  plt.xlabel('Examples')\n",
        "  plt.title('Logistic regression predictions vs true labels data')\n",
        "\n",
        "  plt.scatter(np.arange(110), testLabelsDF, marker= \"x\", s = 1000)\n",
        "  plt.scatter(np.arange(110), np.squeeze(fina_labels_test), marker= \"x\", s = 1000)\n",
        "  plt.show()\n",
        "\n",
        "LogisticAPI(tot_train_data, tot_train_labels, test_data, test_labels, lambda_optimum)"
      ],
      "execution_count": 13,
      "outputs": [
        {
          "output_type": "stream",
          "name": "stdout",
          "text": [
            "Test accuracy:  91.81818181818183\n"
          ]
        },
        {
          "output_type": "display_data",
          "data": {
            "image/png": "[encoded data removed]",
            "text/plain": [
              "<Figure size 1080x360 with 1 Axes>"
            ]
          },
          "metadata": {
            "needs_background": "light"
          }
        }
      ]
    }
  ]
}