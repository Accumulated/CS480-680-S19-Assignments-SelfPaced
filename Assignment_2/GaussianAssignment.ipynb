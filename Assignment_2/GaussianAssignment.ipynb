{
  "nbformat": 4,
  "nbformat_minor": 0,
  "metadata": {
    "colab": {
      "name": "GaussianAssignment.ipynb",
      "provenance": [],
      "collapsed_sections": []
    },
    "kernelspec": {
      "name": "python3",
      "display_name": "Python 3"
    },
    "language_info": {
      "name": "python"
    }
  },
  "cells": [
    {
      "cell_type": "code",
      "metadata": {
        "colab": {
          "base_uri": "https://localhost:8080/"
        },
        "id": "tFewkfhFuFL1",
        "outputId": "0b9a093e-f91a-4989-d2f6-4a9e14f0dbdb"
      },
      "source": [
        "from google.colab import drive\n",
        "drive.mount('/content/drive')"
      ],
      "execution_count": 1,
      "outputs": [
        {
          "output_type": "stream",
          "name": "stdout",
          "text": [
            "Mounted at /content/drive\n"
          ]
        }
      ]
    },
    {
      "cell_type": "code",
      "metadata": {
        "id": "iEZ97w8JjVQn",
        "colab": {
          "base_uri": "https://localhost:8080/",
          "height": 145
        },
        "outputId": "825828a2-4ea6-449b-97b1-3e3b0b17a35d"
      },
      "source": [
        "import pandas as pd\n",
        "import matplotlib.pyplot as plt  \n",
        "import numpy as np\n",
        "from numpy.linalg import norm\n",
        "\n",
        "from random import seed\n",
        "from random import randint\n",
        "from sklearn.metrics import accuracy_score\n",
        "\n",
        "pd.option_context('display.max_rows', None, 'display.max_columns', None)  # more options can be specified also\n",
        "    \n",
        "seed(1)\n",
        "\n",
        "np.set_printoptions(precision=10, )\n",
        "pd.options.display.float_format = '{:.2f}'.format\n",
        "np.set_printoptions(suppress=True)\n",
        "%precision 10\n",
        "!cp -r /content/drive/MyDrive/CS_480_680_DataSets /content\n",
        "\n",
        "''' \n",
        "Dataset for K-nearest neighbour: knn-dataset.zip\n",
        "Problem: this data is a modified version of the Optical Recognition of Handwritten Digits Dataset from the UCI repository. \n",
        "It contains pre-processed black and white images of the digits 5 and 6. \n",
        "Each attribute indicates how many pixels are black in a patch of 4 x 4 pixels.\n",
        "Format: there is one row per image and one column per attribute. The class labels are 5 and 6.\n",
        "The training set is already divided into 10 subsets for 10-fold cross validation.\n",
        "\n",
        "http://archive.ics.uci.edu/ml/datasets/Optical+Recognition+of+Handwritten+Digits\n",
        "\n",
        "Data Set Information:\n",
        "\n",
        "We used preprocessing programs made available by NIST to extract normalized bitmaps of handwritten digits from a preprinted form. \n",
        "From a total of 43 people, 30 contributed to the training set and different 13 to the test set. \n",
        "32x32 bitmaps are divided into nonoverlapping blocks of 4x4 and the number of on pixels are counted in each block. \n",
        "This generates an input matrix of 8x8 where each element is an integer in the range 0..16. \n",
        "This reduces dimensionality and gives invariance to small distortions.\n",
        "\n",
        "To sum up:\n",
        "Each attribute indicates how many pixels are black in a patch of 4 x 4 pixels.\n",
        "Input matrix of 8x8 where each element is an integer in the range 0..16. \n",
        "\n",
        "'''"
      ],
      "execution_count": 2,
      "outputs": [
        {
          "output_type": "execute_result",
          "data": {
            "application/vnd.google.colaboratory.intrinsic+json": {
              "type": "string"
            },
            "text/plain": [
              "' \\nDataset for K-nearest neighbour: knn-dataset.zip\\nProblem: this data is a modified version of the Optical Recognition of Handwritten Digits Dataset from the UCI repository. \\nIt contains pre-processed black and white images of the digits 5 and 6. \\nEach attribute indicates how many pixels are black in a patch of 4 x 4 pixels.\\nFormat: there is one row per image and one column per attribute. The class labels are 5 and 6.\\nThe training set is already divided into 10 subsets for 10-fold cross validation.\\n\\nhttp://archive.ics.uci.edu/ml/datasets/Optical+Recognition+of+Handwritten+Digits\\n\\nData Set Information:\\n\\nWe used preprocessing programs made available by NIST to extract normalized bitmaps of handwritten digits from a preprinted form. \\nFrom a total of 43 people, 30 contributed to the training set and different 13 to the test set. \\n32x32 bitmaps are divided into nonoverlapping blocks of 4x4 and the number of on pixels are counted in each block. \\nThis generates an input matrix of 8x8 where each element is an integer in the range 0..16. \\nThis reduces dimensionality and gives invariance to small distortions.\\n\\nTo sum up:\\nEach attribute indicates how many pixels are black in a patch of 4 x 4 pixels.\\nInput matrix of 8x8 where each element is an integer in the range 0..16. \\n\\n'"
            ]
          },
          "metadata": {},
          "execution_count": 2
        }
      ]
    },
    {
      "cell_type": "code",
      "metadata": {
        "id": "rYhzZsU-kEX5"
      },
      "source": [
        "# train.csv dataSet\n",
        "train_1 = pd.read_csv('/content/CS_480_680_DataSets/knn_dataset/trainData1.csv', header=None)\n",
        "train_2 = pd.read_csv('/content/CS_480_680_DataSets/knn_dataset/trainData2.csv', header=None)\n",
        "train_3 = pd.read_csv('/content/CS_480_680_DataSets/knn_dataset/trainData3.csv', header=None)\n",
        "train_4 = pd.read_csv('/content/CS_480_680_DataSets/knn_dataset/trainData4.csv', header=None)\n",
        "train_5 = pd.read_csv('/content/CS_480_680_DataSets/knn_dataset/trainData5.csv', header=None)\n",
        "train_6 = pd.read_csv('/content/CS_480_680_DataSets/knn_dataset/trainData6.csv', header=None)\n",
        "train_7 = pd.read_csv('/content/CS_480_680_DataSets/knn_dataset/trainData7.csv', header=None)\n",
        "train_8 = pd.read_csv('/content/CS_480_680_DataSets/knn_dataset/trainData8.csv', header=None)\n",
        "train_9 = pd.read_csv('/content/CS_480_680_DataSets/knn_dataset/trainData9.csv', header=None)\n",
        "train_10 = pd.read_csv('/content/CS_480_680_DataSets/knn_dataset/trainData10.csv', header=None)\n",
        "test_data = pd.read_csv('/content/CS_480_680_DataSets/knn_dataset/testData.csv', header=None)\n",
        "\n",
        "# Labels dataSet\n",
        "labels_1 = pd.read_csv('/content/CS_480_680_DataSets/knn_dataset/trainLabels1.csv', header=None)\n",
        "labels_2 = pd.read_csv('/content/CS_480_680_DataSets/knn_dataset/trainLabels2.csv', header=None)\n",
        "labels_3 = pd.read_csv('/content/CS_480_680_DataSets/knn_dataset/trainLabels3.csv', header=None)\n",
        "labels_4 = pd.read_csv('/content/CS_480_680_DataSets/knn_dataset/trainLabels4.csv', header=None)\n",
        "labels_5 = pd.read_csv('/content/CS_480_680_DataSets/knn_dataset/trainLabels5.csv', header=None)\n",
        "labels_6 = pd.read_csv('/content/CS_480_680_DataSets/knn_dataset/trainLabels6.csv', header=None)\n",
        "labels_7 = pd.read_csv('/content/CS_480_680_DataSets/knn_dataset/trainLabels7.csv', header=None)\n",
        "labels_8 = pd.read_csv('/content/CS_480_680_DataSets/knn_dataset/trainLabels8.csv', header=None)\n",
        "labels_9 = pd.read_csv('/content/CS_480_680_DataSets/knn_dataset/trainLabels9.csv', header=None)\n",
        "labels_10 = pd.read_csv('/content/CS_480_680_DataSets/knn_dataset/trainLabels10.csv', header=None)\n",
        "test_labels = pd.read_csv('/content/CS_480_680_DataSets/knn_dataset/testLabels.csv', header=None)\n",
        "\n",
        "# Replace classes {'5' -> -1 and '6' -> 1}\n",
        "replace_labels = {5: 0, 6: 1}\n",
        "rename_features = {0: 'Label'}\n",
        "\n",
        "labels_1.replace(replace_labels, inplace=True)\n",
        "labels_2.replace(replace_labels, inplace=True)\n",
        "labels_3.replace(replace_labels, inplace=True)\n",
        "labels_4.replace(replace_labels, inplace=True)\n",
        "labels_5.replace(replace_labels, inplace=True)\n",
        "labels_6.replace(replace_labels, inplace=True)\n",
        "labels_7.replace(replace_labels, inplace=True)\n",
        "labels_8.replace(replace_labels, inplace=True)\n",
        "labels_9.replace(replace_labels, inplace=True)\n",
        "labels_10.replace(replace_labels, inplace=True)\n",
        "test_labels.replace(replace_labels, inplace=True)\n",
        "\n",
        "labels_1.rename(columns=rename_features, inplace=True)\n",
        "labels_2.rename(columns=rename_features, inplace=True)\n",
        "labels_3.rename(columns=rename_features, inplace=True)\n",
        "labels_4.rename(columns=rename_features, inplace=True)\n",
        "labels_5.rename(columns=rename_features, inplace=True)\n",
        "labels_6.rename(columns=rename_features, inplace=True)\n",
        "labels_7.rename(columns=rename_features, inplace=True)\n",
        "labels_8.rename(columns=rename_features, inplace=True)\n",
        "labels_9.rename(columns=rename_features, inplace=True)\n",
        "labels_10.rename(columns=rename_features, inplace=True)\n",
        "test_labels.rename(columns=rename_features, inplace=True)"
      ],
      "execution_count": 3,
      "outputs": []
    },
    {
      "cell_type": "code",
      "metadata": {
        "id": "1Uo4hiOIquyI"
      },
      "source": [
        "train_set = [train_1, train_2, train_3, train_4, train_5, train_6, train_7, train_8, train_9, train_10]\n",
        "labels_set = [labels_1, labels_2, labels_3, labels_4, labels_5, labels_6, labels_7, labels_8, labels_9, labels_10]"
      ],
      "execution_count": 4,
      "outputs": []
    },
    {
      "cell_type": "code",
      "metadata": {
        "id": "JH_rnH8slDpy"
      },
      "source": [
        "# Number of trainingdata splits\n",
        "k_cross = 10\n",
        "\n",
        "# List of dataFrames of the training data execluding the training data used for validation \n",
        "training_data = []\n",
        "training_labels = []\n",
        "\n",
        "# Same for validation data\n",
        "validation_data = []\n",
        "validation_labels = []\n",
        "\n",
        "# Get training data and validation data as list of dataFrames\n",
        "for i in range(k_cross):\n",
        "  sub_train = [train_set[index] for index in range(k_cross) if index != i]\n",
        "  sub_label = [labels_set[index] for index in range(k_cross) if index != i]\n",
        "  \n",
        "  # Concatenate all dataframes in the sub_train list to a single dataframe in order\n",
        "  # to get a single training examples dataFrame with all examples in it.\n",
        "  training_data.append(pd.concat(sub_train, ignore_index=True))\n",
        "  training_labels.append(pd.concat(sub_label, ignore_index=True))\n",
        "\n",
        "  validation_data.append(train_set[i])\n",
        "  validation_labels.append(labels_set[i])"
      ],
      "execution_count": 5,
      "outputs": []
    },
    {
      "cell_type": "code",
      "metadata": {
        "id": "VHPksWyxYL5e"
      },
      "source": [
        "def GET_examples_by_labels(df_data, df_labels, value):\n",
        "  ''' This function gets sub set of examples that follow a certain label value.\n",
        "      i.e. for a label; it takes binary values either 0 or 1.\n",
        "      for a certain label value i.e. 0, get all the examples corresponding\n",
        "      to this label value.\n",
        "      Return: D_examples -> this is a sub dataset that contains all the examples\n",
        "      corresponding to a single label value from the labels.\n",
        "  '''\n",
        "  \n",
        "  # Get all the labels from the dataframe\n",
        "  labels = df_labels['Label'].tolist()\n",
        "\n",
        "  # find the location of 'value' in the feature values\n",
        "  example_indices  = np.where(np.array(labels) == value)[0]\n",
        "\n",
        "  # Return a DataFrame of all examples with labels are = value\n",
        "  return df_data.iloc[example_indices].reset_index(drop=True)\n",
        "\n",
        "def mean_calc(data):\n",
        "  '''\n",
        "  The function is a helper for the MLE parameter estimation\n",
        "  For 900 examples each has 64 features, the function returns \n",
        "  64 x 1 array for the mean of all exmples\n",
        "  '''\n",
        "  # Return array of means i.e. 64 means, all normalized by number of examples i.e. 900\n",
        "  # shape of mean is M x 1\n",
        "  return (np.array(data.sum(axis=0)) / data.shape[0]).reshape(data.shape[1], 1)"
      ],
      "execution_count": 6,
      "outputs": []
    },
    {
      "cell_type": "code",
      "metadata": {
        "id": "3N5xjWZClDhk"
      },
      "source": [
        "def GM_MLE_Parameter_Estimation(data_df, Labels_df):\n",
        "  '''\n",
        "  This function calculates the likelihood maximization paramters for gaussion\n",
        "  mixtures for 2 classes classification. \n",
        "\n",
        "  The parameters calculate and returend are:\n",
        "  covariance_mat: It's the return of the following expression ..\n",
        "                  Sigma = N1/N * S1 + N2/N * s2\n",
        "                  S1 = 1/N1 * sum((x_n - u_1)*(x_n - u_1).T)\n",
        "                  S2 = 1/N2 * sum((x_n - u_2)*(x_n - u_2).T)\n",
        "                  Total expression:\n",
        "    Sigma = 1/N * sum((x_n - u_1)*(x_n - u_1).T) + 1/N * sum((x_n - u_2)*(x_n - u_2).T)\n",
        "\n",
        "  mean_1: It's the empirical mean; mean of all input vectors assigned \n",
        "          to the class 1, and has the following equation:\n",
        "          mue_1 = sum(x_n) / N1\n",
        "  \n",
        "  mean_2: It's the empirical mean; mean of all input vectors assigned \n",
        "          to the class 2, and has the following equation:\n",
        "          mue_2 = sum(x_n) / N2\n",
        "\n",
        "  Note: sum() in the expressions has the range of all the examples \n",
        "\n",
        "  '''\n",
        "  # Get sub datasets where labels are equal to zeros and ones\n",
        "  Xs_Labeled_0 = GET_examples_by_labels(data_df, Labels_df, 0)\n",
        "  Xs_Labeled_1 = GET_examples_by_labels(data_df, Labels_df, 1)\n",
        "\n",
        "  # Get prior probability class 1 and class 0\n",
        "  p_c_1 = Xs_Labeled_0.shape[0] / data_df.shape[0]\n",
        "  p_c_2 = Xs_Labeled_1.shape[0] / data_df.shape[0]\n",
        "\n",
        "  # Get mean values, mean is M x 1 column vector\n",
        "  mue_1 = mean_calc(Xs_Labeled_0)\n",
        "  mue_2 = mean_calc(Xs_Labeled_1)\n",
        "\n",
        "  # Get S1 and S2\n",
        "  s1 = 0\n",
        "  s2 = 0\n",
        "\n",
        "  # s1 and s2 are M x M matrices where M is number of features in dataset\n",
        "  for index, row_example in Xs_Labeled_0.iterrows():\n",
        "    # Make sure that the 2 arrays are of same shape, otherwise casting might occur\n",
        "    tmp = np.array(row_example).reshape(data_df.shape[1], 1) - mue_1\n",
        "    s1 += np.dot(tmp, tmp.T)\n",
        "  \n",
        "  for index, row_example in Xs_Labeled_1.iterrows():\n",
        "    tmp = np.array(row_example).reshape(data_df.shape[1], 1) - mue_2\n",
        "    s2 += np.dot(tmp, tmp.T)\n",
        "\n",
        "  # Normalize all and sum both components\n",
        "  first_covar_term = s1/data_df.shape[0]\n",
        "  sec_covar_term = s2/data_df.shape[0]\n",
        "\n",
        "  #Calculate covariance matrix sigma and its inverse\n",
        "  covar_matrix = first_covar_term + sec_covar_term\n",
        "  covar_matrix_inv = np.linalg.inv(covar_matrix)\n",
        "  \n",
        "  return p_c_1, p_c_2, mue_1, mue_2, covar_matrix, covar_matrix_inv"
      ],
      "execution_count": 7,
      "outputs": []
    },
    {
      "cell_type": "code",
      "metadata": {
        "id": "pBLUTT6oa1G2"
      },
      "source": [
        "def sigmoid(w, x, wo):\n",
        "  return 1 / (1 + np.exp(-1 * np.dot(w.T, x) + wo))\n",
        "\n",
        "def calculate_weight( pc1, pc2, mean1, mean2, covar, covar_inv):\n",
        "  ''' \n",
        "  This function computes W vector and Wo scalar value according to\n",
        "  the following equations:\n",
        "  Probability of class C = pi -> true probability is for labels = 1\n",
        "  W = Covar_inverse * (mue_1 - mue_2)\n",
        "  W = - 0.5 * mue_1.T * Covar_inverse * mue_1 + \n",
        "      0.5 * meu_2.T * Covar_inverse * mue_2 + \n",
        "      ln( P(C=0) / P(C=1))\n",
        "\n",
        "  '''\n",
        "  W = np.dot(covar_inv, (mean1 - mean2))\n",
        "  Wo = - 0.5 * np.dot(np.dot(mean1.T, covar_inv), mean1) + 0.5 * np.dot(np.dot(mean2.T, covar_inv), mean2) + np.log10(pc1 / pc2)\n",
        "  \n",
        "  return W, Wo  \n",
        "\n",
        "def predict_GMix(test_df, w, w0):\n",
        "  y_pred = []\n",
        "  for index, row_example in test_df.iterrows():\n",
        "    # Make sure that the 2 arrays are of same shape, otherwise casting might occur\n",
        "    y_pred.append(sigmoid(w, np.array(row_example).reshape(test_df.shape[1], 1), w0))\n",
        "  return y_pred\n"
      ],
      "execution_count": 8,
      "outputs": []
    },
    {
      "cell_type": "code",
      "metadata": {
        "id": "4JVeDf0YEfMk"
      },
      "source": [
        "# API for Gaussian mixture\n",
        "def GM_API(tr_data, tr_labels, test_data, test_labels):\n",
        "  '''\n",
        "  Call this function for training and classifying your train\n",
        "  and test data\n",
        "  '''\n",
        "  # Get Likelihood estimated parameters for gaussian mixtures model\n",
        "  param = GM_MLE_Parameter_Estimation(tr_data, tr_labels)\n",
        "\n",
        "  # Get trained features and bias term\n",
        "  w, w0 = calculate_weight(param[0], param[1], param[2], param[3], param[4], param[5])\n",
        "\n",
        "  # Get the predictions using sigmoid activation function for test data\n",
        "  y_pred = np.array(predict_GMix(test_data, w, w0))\n",
        "\n",
        "  # Decision boundary theorem where prob >= 0.5 is class 0\n",
        "  zeros_class_indeces = y_pred >= 0.5 \n",
        "  ones_class_indeces = y_pred < 0.5 \n",
        "  y_pred[zeros_class_indeces] = 0\n",
        "  y_pred[ones_class_indeces] = 1\n",
        "\n",
        "  fig = plt .figure(figsize=(15, 5))\n",
        "  plt.rcParams.update({'font.size': 12})\n",
        "  plt.ylabel('Labels')\n",
        "  plt.xlabel('Examples')\n",
        "  plt.title('Gaussian Mixture predictions vs true labels data')\n",
        "\n",
        "  plt.scatter(np.arange(110), test_labels, marker= \"x\", s = 1000)\n",
        "  plt.scatter(np.arange(110), np.squeeze(y_pred), marker= \"x\", s = 1000)\n",
        "  plt.show()\n",
        "\n",
        "  # Print the accuracy for the test data\n",
        "  print(\"Testing data accuracy: \", accuracy_score(np.array(test_labels), np.array(np.squeeze(y_pred))) * 100, \"%\")\n"
      ],
      "execution_count": 13,
      "outputs": []
    },
    {
      "cell_type": "code",
      "metadata": {
        "colab": {
          "base_uri": "https://localhost:8080/",
          "height": 375
        },
        "id": "uSFK_3NpLbw2",
        "outputId": "f79d9c50-09d2-4179-f277-409f77ca7773"
      },
      "source": [
        "# training and testing data in the code\n",
        "tot_train_data = pd.concat([training_data[0], validation_data[0]], ignore_index=True)\n",
        "tot_train_labels = pd.concat([training_labels[0], validation_labels[0]], ignore_index=True)\n",
        "\n",
        "GM_API(tot_train_data, tot_train_labels, test_data, test_labels)"
      ],
      "execution_count": 14,
      "outputs": [
        {
          "output_type": "display_data",
          "data": {
            "image/png": "[encoded data removed]",
            "text/plain": [
              "<Figure size 1080x360 with 1 Axes>"
            ]
          },
          "metadata": {
            "needs_background": "light"
          }
        },
        {
          "output_type": "stream",
          "name": "stdout",
          "text": [
            "Testing data accuracy:  88.18181818181819 %\n"
          ]
        }
      ]
    }
  ]
}