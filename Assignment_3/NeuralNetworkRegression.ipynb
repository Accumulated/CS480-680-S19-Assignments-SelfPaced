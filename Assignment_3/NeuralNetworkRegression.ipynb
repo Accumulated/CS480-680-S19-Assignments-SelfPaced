{
  "nbformat": 4,
  "nbformat_minor": 0,
  "metadata": {
    "colab": {
      "name": "NeuralNetworkRegression.ipynb",
      "provenance": [],
      "collapsed_sections": []
    },
    "kernelspec": {
      "name": "python3",
      "display_name": "Python 3"
    },
    "language_info": {
      "name": "python"
    }
  },
  "cells": [
    {
      "cell_type": "code",
      "metadata": {
        "colab": {
          "base_uri": "https://localhost:8080/"
        },
        "id": "Bjv4wL460F5-",
        "outputId": "1fbf453e-8abe-4259-d80e-a22b541531ab"
      },
      "source": [
        "from google.colab import drive\n",
        "drive.mount('/content/drive')"
      ],
      "execution_count": 1,
      "outputs": [
        {
          "output_type": "stream",
          "name": "stdout",
          "text": [
            "Mounted at /content/drive\n"
          ]
        }
      ]
    },
    {
      "cell_type": "code",
      "metadata": {
        "id": "iEZ97w8JjVQn",
        "colab": {
          "base_uri": "https://localhost:8080/",
          "height": 52
        },
        "outputId": "e653f4c1-79c3-47d3-a1c5-35e2a86ab0ac"
      },
      "source": [
        "import pandas as pd\n",
        "import matplotlib.pyplot as plt  \n",
        "import numpy as np\n",
        "from numpy.linalg import norm\n",
        "from scipy import linalg\n",
        "\n",
        "from random import seed\n",
        "from random import randint\n",
        "from sklearn.metrics import accuracy_score\n",
        "from sklearn.metrics import mean_squared_error\n",
        "\n",
        "import torch\n",
        "import torchvision.models as models\n",
        "import torch.nn as nn\n",
        "import torch.nn.functional as F\n",
        "import torch.optim as optim\n",
        "import torch.utils.data as data_utils\n",
        "\n",
        "pd.option_context('display.max_rows', None, 'display.max_columns', None)  # more options can be specified also\n",
        "    \n",
        "seed(1)\n",
        "\n",
        "np.set_printoptions(precision=10, )\n",
        "pd.options.display.float_format = '{:.2f}'.format\n",
        "np.set_printoptions(suppress=True)\n",
        "%precision 10\n",
        "!cp -r /content/drive/MyDrive/CS_480_680_DataSets /content\n",
        "\n",
        "'''\n",
        "Assignment name: Non-Linear regression techniques.\n",
        "Problem: this data corresponds to samples from a 2D surface that you can plot to visualize how regression is working.\n",
        "Format: there is one row per data instance and one column per attribute. The targets are real values.\n",
        "'''"
      ],
      "execution_count": 2,
      "outputs": [
        {
          "output_type": "execute_result",
          "data": {
            "application/vnd.google.colaboratory.intrinsic+json": {
              "type": "string"
            },
            "text/plain": [
              "'\\nAssignment name: Non-Linear regression techniques.\\nProblem: this data corresponds to samples from a 2D surface that you can plot to visualize how regression is working.\\nFormat: there is one row per data instance and one column per attribute. The targets are real values.\\n'"
            ]
          },
          "metadata": {},
          "execution_count": 2
        }
      ]
    },
    {
      "cell_type": "code",
      "metadata": {
        "id": "rYhzZsU-kEX5"
      },
      "source": [
        "# train.csv dataSet\n",
        "tr_name = 'trainInput'\n",
        "tr_label = 'trainTarget'\n",
        "base_location = '/content/CS_480_680_DataSets/nonlinear_regression_dataset/'\n",
        "\n",
        "train_1 = pd.read_csv(base_location + tr_name + '1.csv', header=None)\n",
        "train_2 = pd.read_csv(base_location + tr_name + '2.csv', header=None)\n",
        "train_3 = pd.read_csv(base_location + tr_name + '3.csv', header=None)\n",
        "train_4 = pd.read_csv(base_location + tr_name + '4.csv', header=None)\n",
        "train_5 = pd.read_csv(base_location + tr_name + '5.csv', header=None)\n",
        "train_6 = pd.read_csv(base_location + tr_name + '6.csv', header=None)\n",
        "train_7 = pd.read_csv(base_location + tr_name + '7.csv', header=None)\n",
        "train_8 = pd.read_csv(base_location + tr_name + '8.csv', header=None)\n",
        "train_9 = pd.read_csv(base_location + tr_name + '9.csv', header=None)\n",
        "train_10 = pd.read_csv(base_location + tr_name + '10.csv', header=None)\n",
        "test_data = pd.read_csv(base_location + 'testInput.csv', header=None)\n",
        "\n",
        "# Labels dataSet\n",
        "labels_1 = pd.read_csv(base_location + tr_label + '1.csv', header=None)\n",
        "labels_2 = pd.read_csv(base_location + tr_label + '2.csv', header=None)\n",
        "labels_3 = pd.read_csv(base_location + tr_label + '3.csv', header=None)\n",
        "labels_4 = pd.read_csv(base_location + tr_label + '4.csv', header=None)\n",
        "labels_5 = pd.read_csv(base_location + tr_label + '5.csv', header=None)\n",
        "labels_6 = pd.read_csv(base_location + tr_label + '6.csv', header=None)\n",
        "labels_7 = pd.read_csv(base_location + tr_label + '7.csv', header=None)\n",
        "labels_8 = pd.read_csv(base_location + tr_label + '8.csv', header=None)\n",
        "labels_9 = pd.read_csv(base_location + tr_label + '9.csv', header=None)\n",
        "labels_10 = pd.read_csv(base_location + tr_label + '10.csv', header=None)\n",
        "test_labels = pd.read_csv(base_location + 'testTarget.csv', header=None)"
      ],
      "execution_count": 3,
      "outputs": []
    },
    {
      "cell_type": "code",
      "metadata": {
        "id": "1Uo4hiOIquyI"
      },
      "source": [
        "train_set = [train_1, train_2, train_3, train_4, train_5, train_6, train_7, train_8, train_9, train_10]\n",
        "labels_set = [labels_1, labels_2, labels_3, labels_4, labels_5, labels_6, labels_7, labels_8, labels_9, labels_10]"
      ],
      "execution_count": 4,
      "outputs": []
    },
    {
      "cell_type": "code",
      "metadata": {
        "id": "JH_rnH8slDpy"
      },
      "source": [
        "# Number of trainingdata splits\n",
        "k_cross = 10\n",
        "\n",
        "# List of dataFrames of the training data execluding the training data used for validation \n",
        "training_data = []\n",
        "training_labels = []\n",
        "\n",
        "# Same for validation data\n",
        "validation_data = []\n",
        "validation_labels = []\n",
        "\n",
        "# Get training data and validation data as list of dataFrames\n",
        "for i in range(k_cross):\n",
        "  sub_train = [train_set[index] for index in range(k_cross) if index != i]\n",
        "  sub_label = [labels_set[index] for index in range(k_cross) if index != i]\n",
        "  \n",
        "  # Concatenate all dataframes in the sub_train list to a single dataframe in order\n",
        "  # to get a single training examples dataFrame with all examples in it.\n",
        "  training_data.append(pd.concat(sub_train, ignore_index=True))\n",
        "  training_labels.append(pd.concat(sub_label, ignore_index=True))\n",
        "\n",
        "  validation_data.append(train_set[i])\n",
        "  validation_labels.append(labels_set[i])\n",
        "\n",
        "tot_train_data = pd.concat([training_data[0], validation_data[0]], ignore_index=True)\n",
        "tot_train_labels = pd.concat([training_labels[0], validation_labels[0]], ignore_index=True)"
      ],
      "execution_count": 5,
      "outputs": []
    },
    {
      "cell_type": "code",
      "metadata": {
        "id": "VHPksWyxYL5e"
      },
      "source": [
        "def GET_examples_by_labels(df_data, df_labels, value):\n",
        "  ''' This function gets sub set of examples that follow a certain label value.\n",
        "      i.e. for a label; it takes binary values either 0 or 1.\n",
        "      for a certain label value i.e. 0, get all the examples corresponding\n",
        "      to this label value.\n",
        "      Return: D_examples -> this is a sub dataset that contains all the examples\n",
        "      corresponding to a single label value from the labels.\n",
        "  '''\n",
        "  \n",
        "  # Get all the labels from the dataframe\n",
        "  labels = df_labels['Label'].tolist()\n",
        "\n",
        "  # find the location of 'value' in the feature values\n",
        "  example_indices  = np.where(np.array(labels) == value)[0]\n",
        "\n",
        "  # Return a DataFrame of all examples with labels are = value\n",
        "  return df_data.iloc[example_indices].reset_index(drop=True)"
      ],
      "execution_count": 6,
      "outputs": []
    },
    {
      "cell_type": "code",
      "metadata": {
        "id": "HSK6vF9S-TE1"
      },
      "source": [
        "def Get_Design_Matrix(df_data):\n",
        "  '''\n",
        "    The design matrix is denoted by PHI -> with shape N examples x M features.\n",
        "    It returns matrix N x M. However we need to consider the bias term in this \n",
        "    equation so the return matrix is (M + 1) x N, where a whole row of ones is\n",
        "    added at the very beginning of the return matrix\n",
        "  '''\n",
        "  # Get all dataset examples as an array\n",
        "  PHI = np.squeeze(df_data.to_numpy())\n",
        "  \n",
        "  # Get the bias stacked at the 1st column of the phi matrix N x (M + 1)\n",
        "  return np.hstack((np.ones((PHI.shape[0], 1)), PHI))"
      ],
      "execution_count": 7,
      "outputs": []
    },
    {
      "cell_type": "code",
      "metadata": {
        "id": "pBLUTT6oa1G2"
      },
      "source": [
        "class Net(nn.Module):\n",
        "    def __init__(self, num_hidden_units):\n",
        "        super().__init__()\n",
        "        self.fc1 = nn.Linear(3, num_hidden_units, bias=False)\n",
        "        self.fc2 = nn.Linear(num_hidden_units, 1, bias=False)\n",
        "\n",
        "    def forward(self, x):\n",
        "        x = torch.sigmoid(self.fc1(x))\n",
        "        x = self.fc2(x)\n",
        "        return x"
      ],
      "execution_count": 8,
      "outputs": []
    },
    {
      "cell_type": "code",
      "metadata": {
        "id": "4JVeDf0YEfMk"
      },
      "source": [
        "def Train_Test_NN(hiddens, df_train, df_labels, df_test):\n",
        "\n",
        "  net = Net(num_hidden_units = hiddens)\n",
        "\n",
        "  criterion = nn.MSELoss()\n",
        "\n",
        "  optimizer = optim.Adam(net.parameters(), lr=0.01)\n",
        "\n",
        "  arr = Get_Design_Matrix(df_train)\n",
        "  arr_test = Get_Design_Matrix(df_test)\n",
        "\n",
        "  train_target = torch.tensor(df_labels.values.astype(np.float32))\n",
        "\n",
        "  train = torch.tensor(arr.astype(np.float32))\n",
        "  v_data = torch.tensor(arr_test.astype(np.float32))\n",
        "\n",
        "  train_tensor = data_utils.TensorDataset(train, train_target) \n",
        "\n",
        "  trainloader = data_utils.DataLoader(dataset = train_tensor, batch_size = 1)\n",
        "\n",
        "  for epoch in range(25):  # loop over the dataset multiple times\n",
        "\n",
        "    running_loss = 0.0\n",
        "    for i, data in enumerate(trainloader, 0):\n",
        "      # get the inputs; data is a list of [inputs, labels]\n",
        "      inputs, labels = data\n",
        "\n",
        "      # zero the parameter gradients\n",
        "      optimizer.zero_grad()\n",
        "\n",
        "      # forward + backward + optimize\n",
        "      outputs = net(inputs)\n",
        "      loss = criterion(outputs, labels)\n",
        "      loss.backward()\n",
        "      optimizer.step()\n",
        "\n",
        "      # print statistics\n",
        "      running_loss += loss.item()\n",
        "\n",
        "    # print('[%d, %5d] loss: %.3f' % (epoch + 1, i + 1, running_loss / arr.shape[0]))\n",
        "  \n",
        "  return net(v_data)"
      ],
      "execution_count": 9,
      "outputs": []
    },
    {
      "cell_type": "code",
      "metadata": {
        "colab": {
          "base_uri": "https://localhost:8080/",
          "height": 651
        },
        "id": "FEpIkt2ttUEd",
        "outputId": "0c944d25-4f30-42ce-e9d8-f869959248e2"
      },
      "source": [
        "def Get_MSE():\n",
        "  accuracy = []\n",
        "  list_acc = []\n",
        "  \n",
        "  units = [1, 2, 3, 4, 5, 6, 7, 8, 9, 10]\n",
        "  for unit in units:\n",
        "    accuracy = []\n",
        "\n",
        "    # Loop over all the k-validations\n",
        "    for k in range(1, 10):\n",
        "      \n",
        "      y_pred = Train_Test_NN(unit, training_data[k], training_labels[k], validation_data[k])\n",
        "\n",
        "      y_pred = y_pred.detach().numpy()\n",
        "\n",
        "      # Store accuracy for the 10 cross validations for the current degree\n",
        "      accuracy.append(mean_squared_error(y_pred, validation_labels[k]))\n",
        "\n",
        "    print(\"MSE on average for number of hidden units: \", unit, \", is: \", (np.sum(np.array(accuracy))/k_cross))\n",
        "    print(accuracy)\n",
        "    list_acc.append((np.sum(np.array(accuracy))/k_cross))\n",
        "\n",
        "  deg = [i for i in range(1, 11)]\n",
        "  plt.title(\"Average validation MSE , 10-fold cross validation.\")\n",
        "  plt.xlabel(\"number of hidden units\")\n",
        "  plt.ylabel(\"Mean squared error\")\n",
        "  plt.plot(deg, list_acc)\n",
        "  plt.show()\n",
        "\n",
        "Get_MSE()"
      ],
      "execution_count": 10,
      "outputs": [
        {
          "output_type": "stream",
          "name": "stdout",
          "text": [
            "MSE on average for number of hidden units:  1 , is:  2.4359593296269004\n",
            "[1.8866898157849665, 2.8860153660614296, 2.231412335454342, 2.7159758449275158, 3.344479061063629, 2.7197893536837836, 3.004347606491113, 1.8016251232486937, 3.769258789553534]\n",
            "MSE on average for number of hidden units:  2 , is:  1.3065315892949927\n",
            "[1.9124029120057902, 0.24751174680772622, 1.7066080486647752, 0.3298960556314353, 3.3490088720590507, 0.0789226847588583, 0.757454088202368, 4.500888852453356, 0.1826226323665688]\n",
            "MSE on average for number of hidden units:  3 , is:  0.6294985497624472\n",
            "[0.16942384987967088, 0.2851964088470816, 0.3018321259716826, 0.3527534965359358, 0.47822006971772507, 0.09438710003972042, 0.6478112496817776, 0.18548325112022054, 3.779877945830658]\n",
            "MSE on average for number of hidden units:  4 , is:  0.29570292471340676\n",
            "[0.1476584014563536, 0.2710580048407121, 0.34504618429592315, 0.36589372341064974, 0.508740827345986, 0.07827820903509033, 0.8377517638213134, 0.19100621049877473, 0.21159592242926442]\n",
            "MSE on average for number of hidden units:  5 , is:  0.31639479835684875\n",
            "[0.15320856824296686, 0.2926174117505251, 0.32992983035128753, 0.3964210061636574, 0.5916764794541927, 0.08523731193438253, 0.8566334600510732, 0.21690095515462127, 0.24132296046578103]\n",
            "MSE on average for number of hidden units:  6 , is:  0.3159000917182801\n",
            "[0.14027356571159666, 0.2952181435132475, 0.32516312167306327, 0.37706936203240865, 0.5705339798167749, 0.15393323741392645, 0.8625494109054148, 0.231395366354391, 0.20286472976197736]\n",
            "MSE on average for number of hidden units:  7 , is:  0.3002788811064675\n",
            "[0.14214755232710025, 0.27217326117336166, 0.3314580322281639, 0.3755879392052518, 0.5168585349823632, 0.15740974507736213, 0.7675365754057226, 0.2222019973951818, 0.21741517327016774]\n",
            "MSE on average for number of hidden units:  8 , is:  0.34046063244989627\n",
            "[0.1999361771712225, 0.32556006516126645, 0.3625681161486297, 0.397159482281907, 0.5616719316544152, 0.16300847409769192, 1.0138931219194594, 0.19062255740695958, 0.19018639865741102]\n",
            "MSE on average for number of hidden units:  9 , is:  0.33455747422232746\n",
            "[0.20657891024874564, 0.3016100389012366, 0.38939440256660474, 0.40260057923335835, 0.5013315887627262, 0.11292581322663794, 0.9407166852865517, 0.22726020139506947, 0.26315652260234407]\n",
            "MSE on average for number of hidden units:  10 , is:  0.29942223979454596\n",
            "[0.14981518796268792, 0.33191791922561337, 0.37465633333140813, 0.38875749875257437, 0.37805763563800976, 0.10891548165360392, 0.8291220256925287, 0.17988970933427284, 0.25309060635476094]\n"
          ]
        },
        {
          "output_type": "display_data",
          "data": {
            "image/png": "[encoded data removed]",
            "text/plain": [
              "<Figure size 432x288 with 1 Axes>"
            ]
          },
          "metadata": {
            "needs_background": "light"
          }
        }
      ]
    },
    {
      "cell_type": "code",
      "metadata": {
        "colab": {
          "base_uri": "https://localhost:8080/"
        },
        "id": "_fDWaC1p6-AW",
        "outputId": "b895d56c-7ddd-459d-ce69-ff7155626359"
      },
      "source": [
        "y_pred = Train_Test_NN(10, tot_train_data, tot_train_labels, test_data)\n",
        "y_pred = y_pred.detach().numpy()\n",
        "print(\"MSE on average for number of hidden units: \", 10, \", is: \", mean_squared_error(y_pred, test_labels))"
      ],
      "execution_count": 15,
      "outputs": [
        {
          "output_type": "stream",
          "name": "stdout",
          "text": [
            "MSE on average for number of hidden units:  10 , is:  0.39245921909630954\n"
          ]
        }
      ]
    }
  ]
}