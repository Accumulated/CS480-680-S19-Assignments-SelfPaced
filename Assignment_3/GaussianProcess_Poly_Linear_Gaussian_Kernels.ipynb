{
  "nbformat": 4,
  "nbformat_minor": 0,
  "metadata": {
    "colab": {
      "name": "GaussianProcess_Poly_Linear_Gaussian_Kernels.ipynb",
      "provenance": [],
      "collapsed_sections": []
    },
    "kernelspec": {
      "name": "python3",
      "display_name": "Python 3"
    },
    "language_info": {
      "name": "python"
    }
  },
  "cells": [
    {
      "cell_type": "code",
      "metadata": {
        "colab": {
          "base_uri": "https://localhost:8080/"
        },
        "id": "Bjv4wL460F5-",
        "outputId": "c5f057a5-206d-471d-d3e5-0df5dfe141c5"
      },
      "source": [
        "from google.colab import drive\n",
        "drive.mount('/content/drive')"
      ],
      "execution_count": null,
      "outputs": [
        {
          "output_type": "stream",
          "name": "stdout",
          "text": [
            "Mounted at /content/drive\n"
          ]
        }
      ]
    },
    {
      "cell_type": "code",
      "metadata": {
        "id": "iEZ97w8JjVQn",
        "colab": {
          "base_uri": "https://localhost:8080/",
          "height": 52
        },
        "outputId": "795d39b3-dee4-4875-8ee8-8f11b1e493f3"
      },
      "source": [
        "import pandas as pd\n",
        "import matplotlib.pyplot as plt  \n",
        "import numpy as np\n",
        "from numpy.linalg import norm\n",
        "from scipy import linalg\n",
        "\n",
        "from random import seed\n",
        "from random import randint\n",
        "from sklearn.metrics import accuracy_score\n",
        "from sklearn.metrics import mean_squared_error\n",
        "\n",
        "\n",
        "pd.option_context('display.max_rows', None, 'display.max_columns', None)  # more options can be specified also\n",
        "    \n",
        "seed(1)\n",
        "\n",
        "np.set_printoptions(precision=10, )\n",
        "pd.options.display.float_format = '{:.2f}'.format\n",
        "np.set_printoptions(suppress=True)\n",
        "%precision 10\n",
        "!cp -r /content/drive/MyDrive/CS_480_680_DataSets /content\n",
        "\n",
        "'''\n",
        "Assignment name: Non-Linear regression techniques.\n",
        "Problem: this data corresponds to samples from a 2D surface that you can plot to visualize how regression is working.\n",
        "Format: there is one row per data instance and one column per attribute. The targets are real values.\n",
        "'''"
      ],
      "execution_count": null,
      "outputs": [
        {
          "output_type": "execute_result",
          "data": {
            "application/vnd.google.colaboratory.intrinsic+json": {
              "type": "string"
            },
            "text/plain": [
              "'\\nAssignment name: Non-Linear regression techniques.\\nProblem: this data corresponds to samples from a 2D surface that you can plot to visualize how regression is working.\\nFormat: there is one row per data instance and one column per attribute. The targets are real values.\\n'"
            ]
          },
          "metadata": {},
          "execution_count": 2
        }
      ]
    },
    {
      "cell_type": "code",
      "metadata": {
        "id": "rYhzZsU-kEX5"
      },
      "source": [
        "# train.csv dataSet\n",
        "tr_name = 'trainInput'\n",
        "tr_label = 'trainTarget'\n",
        "base_location = '/content/CS_480_680_DataSets/nonlinear_regression_dataset/'\n",
        "\n",
        "train_1 = pd.read_csv(base_location + tr_name + '1.csv', header=None)\n",
        "train_2 = pd.read_csv(base_location + tr_name + '2.csv', header=None)\n",
        "train_3 = pd.read_csv(base_location + tr_name + '3.csv', header=None)\n",
        "train_4 = pd.read_csv(base_location + tr_name + '4.csv', header=None)\n",
        "train_5 = pd.read_csv(base_location + tr_name + '5.csv', header=None)\n",
        "train_6 = pd.read_csv(base_location + tr_name + '6.csv', header=None)\n",
        "train_7 = pd.read_csv(base_location + tr_name + '7.csv', header=None)\n",
        "train_8 = pd.read_csv(base_location + tr_name + '8.csv', header=None)\n",
        "train_9 = pd.read_csv(base_location + tr_name + '9.csv', header=None)\n",
        "train_10 = pd.read_csv(base_location + tr_name + '10.csv', header=None)\n",
        "test_data = pd.read_csv(base_location + 'testInput.csv', header=None)\n",
        "\n",
        "# Labels dataSet\n",
        "labels_1 = pd.read_csv(base_location + tr_label + '1.csv', header=None)\n",
        "labels_2 = pd.read_csv(base_location + tr_label + '2.csv', header=None)\n",
        "labels_3 = pd.read_csv(base_location + tr_label + '3.csv', header=None)\n",
        "labels_4 = pd.read_csv(base_location + tr_label + '4.csv', header=None)\n",
        "labels_5 = pd.read_csv(base_location + tr_label + '5.csv', header=None)\n",
        "labels_6 = pd.read_csv(base_location + tr_label + '6.csv', header=None)\n",
        "labels_7 = pd.read_csv(base_location + tr_label + '7.csv', header=None)\n",
        "labels_8 = pd.read_csv(base_location + tr_label + '8.csv', header=None)\n",
        "labels_9 = pd.read_csv(base_location + tr_label + '9.csv', header=None)\n",
        "labels_10 = pd.read_csv(base_location + tr_label + '10.csv', header=None)\n",
        "test_labels = pd.read_csv(base_location + 'testTarget.csv', header=None)"
      ],
      "execution_count": null,
      "outputs": []
    },
    {
      "cell_type": "code",
      "metadata": {
        "id": "1Uo4hiOIquyI"
      },
      "source": [
        "train_set = [train_1, train_2, train_3, train_4, train_5, train_6, train_7, train_8, train_9, train_10]\n",
        "labels_set = [labels_1, labels_2, labels_3, labels_4, labels_5, labels_6, labels_7, labels_8, labels_9, labels_10]"
      ],
      "execution_count": null,
      "outputs": []
    },
    {
      "cell_type": "code",
      "metadata": {
        "id": "JH_rnH8slDpy"
      },
      "source": [
        "# Number of trainingdata splits\n",
        "k_cross = 10\n",
        "\n",
        "# List of dataFrames of the training data execluding the training data used for validation \n",
        "training_data = []\n",
        "training_labels = []\n",
        "\n",
        "# Same for validation data\n",
        "validation_data = []\n",
        "validation_labels = []\n",
        "\n",
        "# Get training data and validation data as list of dataFrames\n",
        "for i in range(k_cross):\n",
        "  sub_train = [train_set[index] for index in range(k_cross) if index != i]\n",
        "  sub_label = [labels_set[index] for index in range(k_cross) if index != i]\n",
        "  \n",
        "  # Concatenate all dataframes in the sub_train list to a single dataframe in order\n",
        "  # to get a single training examples dataFrame with all examples in it.\n",
        "  training_data.append(pd.concat(sub_train, ignore_index=True))\n",
        "  training_labels.append(pd.concat(sub_label, ignore_index=True))\n",
        "\n",
        "  validation_data.append(train_set[i])\n",
        "  validation_labels.append(labels_set[i])\n",
        "\n",
        "tot_train_data = pd.concat([training_data[0], validation_data[0]], ignore_index=True)\n",
        "tot_train_labels = pd.concat([training_labels[0], validation_labels[0]], ignore_index=True)"
      ],
      "execution_count": null,
      "outputs": []
    },
    {
      "cell_type": "code",
      "metadata": {
        "id": "VHPksWyxYL5e"
      },
      "source": [
        "def GET_examples_by_labels(df_data, df_labels, value):\n",
        "  ''' This function gets sub set of examples that follow a certain label value.\n",
        "      i.e. for a label; it takes binary values either 0 or 1.\n",
        "      for a certain label value i.e. 0, get all the examples corresponding\n",
        "      to this label value.\n",
        "      Return: D_examples -> this is a sub dataset that contains all the examples\n",
        "      corresponding to a single label value from the labels.\n",
        "  '''\n",
        "  \n",
        "  # Get all the labels from the dataframe\n",
        "  labels = df_labels['Label'].tolist()\n",
        "\n",
        "  # find the location of 'value' in the feature values\n",
        "  example_indices  = np.where(np.array(labels) == value)[0]\n",
        "\n",
        "  # Return a DataFrame of all examples with labels are = value\n",
        "  return df_data.iloc[example_indices].reset_index(drop=True)"
      ],
      "execution_count": null,
      "outputs": []
    },
    {
      "cell_type": "code",
      "metadata": {
        "id": "pBLUTT6oa1G2"
      },
      "source": [
        "from sklearn.gaussian_process.kernels import RBF\n",
        "def Get_train_targets(df_labels):\n",
        "  '''\n",
        "  This function returns a target vector of shape N x 1\n",
        "  '''\n",
        "  return np.squeeze(df_labels.to_numpy())\n",
        "\n",
        "def Get_Gram_Matrix(x, y, kernel_type = None, degree = 1, sigma = 1):\n",
        "  '''\n",
        "  This function returns Gram Matrix K = PHI * PHI.T. It's symmetric matrix \n",
        "  with shape N x N. Its elements are k_n_m = PHI(x_n).T * PHI(x_m) = k(x_n, x_m).\n",
        "  Gram matrix = X with shape(N, M) * Y.T with shape(M x A) where N and A are number\n",
        "  of X and Y examples respectively. \n",
        "  ''' \n",
        "  mat = 0\n",
        "\n",
        "  if kernel_type == 'Polynomial':\n",
        "    mat = (np.dot(x, y.T) + 1) ** degree\n",
        "\n",
        "  elif kernel_type == 'Linear':\n",
        "    mat = np.dot(x, y.T)\n",
        "  \n",
        "  elif kernel_type == 'Gaussian':\n",
        "    N = x.shape[0]\n",
        "    A = y.shape[0]\n",
        "    M = x.shape[1]\n",
        "\n",
        "    mat = np.zeros([N, A])\n",
        "    \n",
        "    for i in range(0, A):\n",
        "      for z in range(0, N):\n",
        "        x_tr = x[z].reshape([1, M])\n",
        "        x_bar = y[i].reshape([1, M])\n",
        "        mat[z][i] = np.exp(-1 * (np.linalg.norm(x_tr - x_bar)) ** 2 / (2 * (sigma ** 2)))\n",
        "\n",
        "  else:\n",
        "    print(\"Error, wrong kernel\")\n",
        "\n",
        "  return mat\n",
        "\n",
        "def Get_Design_Matrix(df_data):\n",
        "  '''\n",
        "    The design matrix is denoted by PHI -> with shape N examples x M features.\n",
        "    It returns matrix N x M. However we need to consider the bias term in this \n",
        "    equation so the return matrix is (M + 1) x N, where a whole row of ones is\n",
        "    added at the very beginning of the return matrix\n",
        "  '''\n",
        "  # Get all dataset examples as an array\n",
        "  PHI = np.squeeze(df_data.to_numpy())\n",
        "  \n",
        "  # Get the bias stacked at the 1st column of the phi matrix N x (M + 1)\n",
        "  return np.hstack((np.ones((PHI.shape[0], 1)), PHI))"
      ],
      "execution_count": null,
      "outputs": []
    },
    {
      "cell_type": "code",
      "metadata": {
        "id": "4JVeDf0YEfMk"
      },
      "source": [
        "def GaussianProcessRegression(df_test_examples, df_train_examples, \n",
        "                              df_train_labels, degree, kernel_type,\n",
        "                              sigma):\n",
        "\n",
        "  # Get number of training examples\n",
        "  num_tr_examples = df_train_labels.shape[0]\n",
        "\n",
        "  # Get number of training examples\n",
        "  num_test_examples = df_test_examples.shape[0]\n",
        "  \n",
        "  # Get training labels\n",
        "  tr_labels = Get_train_targets(df_train_labels)\n",
        "\n",
        "  # Get middle term ready: (K + lambda * Identity) ^-1\n",
        "  # Get design matrix (PHI)\n",
        "  design_matrix = Get_Design_Matrix(df_train_examples)\n",
        "  design_matrix_test = Get_Design_Matrix(df_test_examples)\n",
        "\n",
        "  # Get Gram matrix without applyinig kernel \n",
        "  gram_matrix = Get_Gram_Matrix(design_matrix, design_matrix, kernel_type = kernel_type, degree=degree, sigma=sigma)\n",
        "\n",
        "  # Get C matrix -> Covariance matrix => C(x_n, x_m) = k(x_n, x_m) + Beta^-1 * delta\n",
        "  C_matrix = gram_matrix + 1 * np.identity(gram_matrix.shape[0])\n",
        "\n",
        "  # Get Covariance matrix inverse\n",
        "  C_matrix_inv = np.linalg.inv(C_matrix)\n",
        "\n",
        "  # Get k_* vector -> k_* = [k(x_*, x_1), k(x_*, x_2), k(x_*, x_3), ..., k(x_*, x_N)]\n",
        "  # Where x_* is a test examples vector of shape M x 1\n",
        "  k_vector  = Get_Gram_Matrix(design_matrix, design_matrix_test, kernel_type = kernel_type, degree=degree, sigma=sigma)\n",
        "  \n",
        "  mean = np.dot(np.dot(k_vector.T, C_matrix_inv), tr_labels)\n",
        "  return  mean\n",
        "\n",
        "def testGaussianProcess(df_test, df_train, df_test_labels, df_train_labels, kernel_type, degree, sigma):\n",
        "\n",
        "  y_pred = GaussianProcessRegression(df_test, df_train, df_train_labels, degree, kernel_type, sigma)\n",
        "\n",
        "  print(\"MSE for test data is: \", mean_squared_error(y_pred, df_test_labels))"
      ],
      "execution_count": null,
      "outputs": []
    },
    {
      "cell_type": "code",
      "metadata": {
        "id": "v3XXLCnXRAcI"
      },
      "source": [
        "def Get_best_degree():\n",
        "  accuracy = []\n",
        "  list_acc = []\n",
        "\n",
        "  for degree in [1, 2, 3, 4]:\n",
        "  \n",
        "    accuracy = []\n",
        "    # Loop over all the k-validations\n",
        "    for k in range(1, 10):\n",
        "      \n",
        "      y_pred = GaussianProcessRegression(validation_data[k], training_data[k], training_labels[k], degree, 'Polynomial', 0)\n",
        "\n",
        "      # Store accuracy for the 10 cross validations for the current degree\n",
        "      accuracy.append(mean_squared_error(y_pred, validation_labels[k]))\n",
        "\n",
        "    print(\"MSE on average for Polynomial kernel: \" , \", is: \", (np.sum(np.array(accuracy))/k_cross))\n",
        "    list_acc.append((np.sum(np.array(accuracy))/k_cross))\n",
        "\n",
        "  deg = [i for i in range(1, 5)]\n",
        "  plt.title(\"Average validation MSE , 10-fold cross validation.\")\n",
        "  plt.xlabel(\"degree\")\n",
        "  plt.ylabel(\"Mean squared error\")\n",
        "  plt.plot(deg, list_acc)\n",
        "  plt.show()\n",
        "\n",
        "def Get_best_sigma():\n",
        "  accuracy = []\n",
        "  list_acc = []\n",
        "  \n",
        "  sig_list = [1, 2, 3, 4, 5, 6]\n",
        "  for sigma in sig_list:\n",
        "    accuracy = []\n",
        "\n",
        "    # Loop over all the k-validations\n",
        "    for k in range(1, 10):\n",
        "      \n",
        "      y_pred = GaussianProcessRegression(validation_data[k], training_data[k], training_labels[k], 1, \"Gaussian\", sigma)\n",
        "\n",
        "      # Store accuracy for the 10 cross validations for the current degree\n",
        "      accuracy.append(mean_squared_error(y_pred, validation_labels[k]))\n",
        "\n",
        "    print(\"MSE on average for sigma: \", sigma, \", is: \", (np.sum(np.array(accuracy))/k_cross))\n",
        "    list_acc.append((np.sum(np.array(accuracy))/k_cross))\n",
        "\n",
        "  deg = [i for i in range(1, 7)]\n",
        "  plt.title(\"Average validation MSE , 10-fold cross validation.\")\n",
        "  plt.xlabel(\"sigma\")\n",
        "  plt.ylabel(\"Mean squared error\")\n",
        "  plt.plot(deg, list_acc)\n",
        "  plt.show()"
      ],
      "execution_count": null,
      "outputs": []
    },
    {
      "cell_type": "code",
      "metadata": {
        "colab": {
          "base_uri": "https://localhost:8080/",
          "height": 741
        },
        "id": "FEpIkt2ttUEd",
        "outputId": "8b0e44b9-8ddb-4c1a-fd93-d96c796ad0f9"
      },
      "source": [
        "Get_best_sigma()\n",
        "Get_best_degree()"
      ],
      "execution_count": null,
      "outputs": [
        {
          "output_type": "stream",
          "name": "stdout",
          "text": [
            "MSE on average for sigma:  1 , is:  0.5009455986823119\n",
            "MSE on average for sigma:  2 , is:  0.0871873669674659\n",
            "MSE on average for sigma:  3 , is:  0.05413481835639089\n",
            "MSE on average for sigma:  4 , is:  0.04919916356634445\n",
            "MSE on average for sigma:  5 , is:  0.05150023878136678\n",
            "MSE on average for sigma:  6 , is:  0.0626943570788412\n"
          ]
        },
        {
          "output_type": "display_data",
          "data": {
            "image/png": "[encoded data removed]",
            "text/plain": [
              "<Figure size 432x288 with 1 Axes>"
            ]
          },
          "metadata": {
            "needs_background": "light"
          }
        },
        {
          "output_type": "stream",
          "name": "stdout",
          "text": [
            "MSE on average for Polynomial kernel:  , is:  1.0890817121723486\n",
            "MSE on average for Polynomial kernel:  , is:  0.7762557023009079\n",
            "MSE on average for Polynomial kernel:  , is:  0.06060154555590448\n",
            "MSE on average for Polynomial kernel:  , is:  0.03683197018292269\n"
          ]
        },
        {
          "output_type": "display_data",
          "data": {
            "image/png": "[encoded data removed]",
            "text/plain": [
              "<Figure size 432x288 with 1 Axes>"
            ]
          },
          "metadata": {
            "needs_background": "light"
          }
        }
      ]
    },
    {
      "cell_type": "code",
      "metadata": {
        "colab": {
          "base_uri": "https://localhost:8080/"
        },
        "id": "_fDWaC1p6-AW",
        "outputId": "23a9c726-dbbf-4384-fc27-7999e5f0dd60"
      },
      "source": [
        "testGaussianProcess(test_data, tot_train_data, test_labels, tot_train_labels, 'Polynomial', 4, sigma=0)"
      ],
      "execution_count": null,
      "outputs": [
        {
          "output_type": "stream",
          "name": "stdout",
          "text": [
            "MSE for test data is:  0.04075590406574915\n"
          ]
        }
      ]
    },
    {
      "cell_type": "code",
      "metadata": {
        "colab": {
          "base_uri": "https://localhost:8080/"
        },
        "id": "Dt4RBiBaWUr6",
        "outputId": "79441aa5-3dcb-459d-f19c-3e76c069bc4a"
      },
      "source": [
        "testGaussianProcess(test_data, tot_train_data, test_labels, tot_train_labels, 'Gaussian', 1, sigma = 4)"
      ],
      "execution_count": null,
      "outputs": [
        {
          "output_type": "stream",
          "name": "stdout",
          "text": [
            "MSE for test data is:  0.043025161668200376\n"
          ]
        }
      ]
    },
    {
      "cell_type": "code",
      "metadata": {
        "colab": {
          "base_uri": "https://localhost:8080/"
        },
        "id": "dw3OjLtjh8eW",
        "outputId": "0c05965f-ba55-40b6-8479-1083130c7369"
      },
      "source": [
        "testGaussianProcess(test_data, tot_train_data, test_labels, tot_train_labels, 'Linear', 0, sigma=0)"
      ],
      "execution_count": null,
      "outputs": [
        {
          "output_type": "stream",
          "name": "stdout",
          "text": [
            "MSE for test data is:  1.2275543550853012\n"
          ]
        }
      ]
    }
  ]
}