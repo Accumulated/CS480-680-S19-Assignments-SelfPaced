{
  "nbformat": 4,
  "nbformat_minor": 0,
  "metadata": {
    "colab": {
      "name": "BayesianGeneralizedLinearRegression.ipynb",
      "provenance": [],
      "collapsed_sections": []
    },
    "kernelspec": {
      "name": "python3",
      "display_name": "Python 3"
    },
    "language_info": {
      "name": "python"
    }
  },
  "cells": [
    {
      "cell_type": "code",
      "metadata": {
        "colab": {
          "base_uri": "https://localhost:8080/"
        },
        "id": "Bjv4wL460F5-",
        "outputId": "67206260-d34a-48bf-fe07-f1ec8e39ccbd"
      },
      "source": [
        "from google.colab import drive\n",
        "drive.mount('/content/drive')"
      ],
      "execution_count": 1,
      "outputs": [
        {
          "output_type": "stream",
          "name": "stdout",
          "text": [
            "Drive already mounted at /content/drive; to attempt to forcibly remount, call drive.mount(\"/content/drive\", force_remount=True).\n"
          ]
        }
      ]
    },
    {
      "cell_type": "code",
      "metadata": {
        "id": "iEZ97w8JjVQn",
        "colab": {
          "base_uri": "https://localhost:8080/",
          "height": 52
        },
        "outputId": "01aad172-047d-419a-99a5-3844eb20bbc9"
      },
      "source": [
        "import pandas as pd\n",
        "import matplotlib.pyplot as plt  \n",
        "import numpy as np\n",
        "from numpy.linalg import norm\n",
        "from scipy import linalg\n",
        "\n",
        "from random import seed\n",
        "from random import randint\n",
        "from sklearn.metrics import accuracy_score\n",
        "from sklearn.metrics import mean_squared_error\n",
        "\n",
        "\n",
        "pd.option_context('display.max_rows', None, 'display.max_columns', None)  # more options can be specified also\n",
        "    \n",
        "seed(1)\n",
        "\n",
        "np.set_printoptions(precision=10, )\n",
        "pd.options.display.float_format = '{:.2f}'.format\n",
        "np.set_printoptions(suppress=True)\n",
        "%precision 10\n",
        "!cp -r /content/drive/MyDrive/CS_480_680_DataSets /content\n",
        "\n",
        "'''\n",
        "Assignment name: Non-Linear regression techniques.\n",
        "Problem: this data corresponds to samples from a 2D surface that you can plot to visualize how regression is working.\n",
        "Format: there is one row per data instance and one column per attribute. The targets are real values.\n",
        "'''"
      ],
      "execution_count": 2,
      "outputs": [
        {
          "output_type": "execute_result",
          "data": {
            "application/vnd.google.colaboratory.intrinsic+json": {
              "type": "string"
            },
            "text/plain": [
              "'\\nAssignment name: Non-Linear regression techniques.\\nProblem: this data corresponds to samples from a 2D surface that you can plot to visualize how regression is working.\\nFormat: there is one row per data instance and one column per attribute. The targets are real values.\\n'"
            ]
          },
          "metadata": {},
          "execution_count": 2
        }
      ]
    },
    {
      "cell_type": "code",
      "metadata": {
        "id": "rYhzZsU-kEX5"
      },
      "source": [
        "# train.csv dataSet\n",
        "tr_name = 'trainInput'\n",
        "tr_label = 'trainTarget'\n",
        "base_location = '/content/CS_480_680_DataSets/nonlinear_regression_dataset/'\n",
        "\n",
        "train_1 = pd.read_csv(base_location + tr_name + '1.csv', header=None)\n",
        "train_2 = pd.read_csv(base_location + tr_name + '2.csv', header=None)\n",
        "train_3 = pd.read_csv(base_location + tr_name + '3.csv', header=None)\n",
        "train_4 = pd.read_csv(base_location + tr_name + '4.csv', header=None)\n",
        "train_5 = pd.read_csv(base_location + tr_name + '5.csv', header=None)\n",
        "train_6 = pd.read_csv(base_location + tr_name + '6.csv', header=None)\n",
        "train_7 = pd.read_csv(base_location + tr_name + '7.csv', header=None)\n",
        "train_8 = pd.read_csv(base_location + tr_name + '8.csv', header=None)\n",
        "train_9 = pd.read_csv(base_location + tr_name + '9.csv', header=None)\n",
        "train_10 = pd.read_csv(base_location + tr_name + '10.csv', header=None)\n",
        "test_data = pd.read_csv(base_location + 'testInput.csv', header=None)\n",
        "\n",
        "train_1 = (train_1 - train_1.min())/(train_1.max()-train_1.min())\n",
        "train_2 = (train_2 - train_2.min())/(train_2.max()-train_2.min())\n",
        "train_3 = (train_3 - train_3.min())/(train_3.max()-train_3.min())\n",
        "train_4 = (train_4 - train_4.min())/(train_4.max()-train_4.min())\n",
        "train_5 = (train_5 - train_5.min())/(train_5.max()-train_5.min())\n",
        "train_6 = (train_6 - train_6.min())/(train_6.max()-train_6.min())\n",
        "train_7 = (train_7 - train_7.min())/(train_7.max()-train_7.min())\n",
        "train_8 = (train_8 - train_8.min())/(train_8.max()-train_8.min())\n",
        "train_9 = (train_9 - train_9.min())/(train_9.max()-train_9.min())\n",
        "train_10 = (train_10 - train_10.min())/(train_10.max()-train_10.min())\n",
        "test_data = (test_data - test_data.min())/(test_data.max()-test_data.min())\n",
        "\n",
        "# Labels dataSet\n",
        "labels_1 = pd.read_csv(base_location + tr_label + '1.csv', header=None)\n",
        "labels_2 = pd.read_csv(base_location + tr_label + '2.csv', header=None)\n",
        "labels_3 = pd.read_csv(base_location + tr_label + '3.csv', header=None)\n",
        "labels_4 = pd.read_csv(base_location + tr_label + '4.csv', header=None)\n",
        "labels_5 = pd.read_csv(base_location + tr_label + '5.csv', header=None)\n",
        "labels_6 = pd.read_csv(base_location + tr_label + '6.csv', header=None)\n",
        "labels_7 = pd.read_csv(base_location + tr_label + '7.csv', header=None)\n",
        "labels_8 = pd.read_csv(base_location + tr_label + '8.csv', header=None)\n",
        "labels_9 = pd.read_csv(base_location + tr_label + '9.csv', header=None)\n",
        "labels_10 = pd.read_csv(base_location + tr_label + '10.csv', header=None)\n",
        "test_labels = pd.read_csv(base_location + 'testTarget.csv', header=None)"
      ],
      "execution_count": 3,
      "outputs": []
    },
    {
      "cell_type": "code",
      "metadata": {
        "id": "1Uo4hiOIquyI"
      },
      "source": [
        "train_set = [train_1, train_2, train_3, train_4, train_5, train_6, train_7, train_8, train_9, train_10]\n",
        "labels_set = [labels_1, labels_2, labels_3, labels_4, labels_5, labels_6, labels_7, labels_8, labels_9, labels_10]"
      ],
      "execution_count": 4,
      "outputs": []
    },
    {
      "cell_type": "code",
      "metadata": {
        "id": "JH_rnH8slDpy"
      },
      "source": [
        "# Number of trainingdata splits\n",
        "k_cross = 10\n",
        "\n",
        "# List of dataFrames of the training data execluding the training data used for validation \n",
        "training_data = []\n",
        "training_labels = []\n",
        "\n",
        "# Same for validation data\n",
        "validation_data = []\n",
        "validation_labels = []\n",
        "\n",
        "# Get training data and validation data as list of dataFrames\n",
        "for i in range(k_cross):\n",
        "  sub_train = [train_set[index] for index in range(k_cross) if index != i]\n",
        "  sub_label = [labels_set[index] for index in range(k_cross) if index != i]\n",
        "  \n",
        "  # Concatenate all dataframes in the sub_train list to a single dataframe in order\n",
        "  # to get a single training examples dataFrame with all examples in it.\n",
        "  training_data.append(pd.concat(sub_train, ignore_index=True))\n",
        "  training_labels.append(pd.concat(sub_label, ignore_index=True))\n",
        "\n",
        "  validation_data.append(train_set[i])\n",
        "  validation_labels.append(labels_set[i])\n",
        "\n",
        "tot_train_data = pd.concat([training_data[0], validation_data[0]], ignore_index=True)\n",
        "tot_train_labels = pd.concat([training_labels[0], validation_labels[0]], ignore_index=True)"
      ],
      "execution_count": 5,
      "outputs": []
    },
    {
      "cell_type": "code",
      "metadata": {
        "id": "VHPksWyxYL5e"
      },
      "source": [
        "def GET_examples_by_labels(df_data, df_labels, value):\n",
        "  ''' This function gets sub set of examples that follow a certain label value.\n",
        "      i.e. for a label; it takes binary values either 0 or 1.\n",
        "      for a certain label value i.e. 0, get all the examples corresponding\n",
        "      to this label value.\n",
        "      Return: D_examples -> this is a sub dataset that contains all the examples\n",
        "      corresponding to a single label value from the labels.\n",
        "  '''\n",
        "  \n",
        "  # Get all the labels from the dataframe\n",
        "  labels = df_labels['Label'].tolist()\n",
        "\n",
        "  # find the location of 'value' in the feature values\n",
        "  example_indices  = np.where(np.array(labels) == value)[0]\n",
        "\n",
        "  # Return a DataFrame of all examples with labels are = value\n",
        "  return df_data.iloc[example_indices].reset_index(drop=True)"
      ],
      "execution_count": 6,
      "outputs": []
    },
    {
      "cell_type": "code",
      "metadata": {
        "id": "pBLUTT6oa1G2"
      },
      "source": [
        "def Polynomial_feature_extraction(degree, df_data):\n",
        "  '''\n",
        "  This function extracts the polynomial features. If the input has\n",
        "  2 features, we can exract features for any polynomial degree i.e.\n",
        "  for degree = 1 -> features: [1, a, b]. \n",
        "  for degree = 2 -> features: [1, a, a^2, b, b^2, ab]. \n",
        "  for degree = 3 -> features: [1, a, a^2, a^3, b, b^2, b^3, a*b, a^2 * b, b^2 * a]\n",
        "  for degree = 4 -> features: [1, a, a^2, a^3, a^4, b, b^2, b^3, b^4, ab, a^2 * b,  a^3 * b, b^2 * a, b^3 * a, a^2 * b^2]\n",
        "  '''\n",
        "  num_locations = 0\n",
        "  if degree == 1:\n",
        "    num_locations = 3\n",
        "  elif degree == 2:\n",
        "    num_locations = 6\n",
        "  elif degree == 3:\n",
        "    num_locations = 10\n",
        "  elif degree == 4:\n",
        "    num_locations = 15\n",
        "  else:\n",
        "    print(\"Error; degree outof range\")\n",
        "    return\n",
        "\n",
        "  num_examples = df_data.shape[0]\n",
        "  arr = np.zeros([num_examples, num_locations])\n",
        "\n",
        "  for index, row in df_data.iterrows():\n",
        "    a = row[0]\n",
        "    b = row[1]\n",
        "    \n",
        "    # Bias term\n",
        "    arr[index][0] = 1 \n",
        "\n",
        "    # loop over a\n",
        "    i = 0\n",
        "    for i in range(1, degree + 1):\n",
        "      arr[index][i] = a ** i\n",
        "\n",
        "    # loop over b\n",
        "    for y in range(1, degree + 1):\n",
        "      i += 1\n",
        "      arr[index][i] = b ** y\n",
        "\n",
        "    # a ^ z * b\n",
        "    for z in range(1, degree):\n",
        "      i += 1\n",
        "      arr[index][i] = a ** z * b\n",
        "\n",
        "    # b ^ z * a\n",
        "    for z in range(2, degree):\n",
        "      i += 1\n",
        "      arr[index][i] = b ** z * a\n",
        "\n",
        "    # a ** 2 * b ** 2\n",
        "    if degree == 4:\n",
        "      arr[index][i+1] = (a ** 2) * (b ** 2)\n",
        "\n",
        "  return arr"
      ],
      "execution_count": 7,
      "outputs": []
    },
    {
      "cell_type": "code",
      "metadata": {
        "id": "8goFl5NJFjnq"
      },
      "source": [
        "def Get_train_targets(df_labels):\n",
        "  '''\n",
        "  This function returns a target vector of shape N x 1\n",
        "  '''\n",
        "  return np.squeeze(df_labels.to_numpy())"
      ],
      "execution_count": 8,
      "outputs": []
    },
    {
      "cell_type": "code",
      "metadata": {
        "id": "wIGwQjB9hnzY"
      },
      "source": [
        "def Get_posterior_distribution_over_weights(phi_matrix, df_targets):\n",
        "\n",
        "  '''\n",
        "  This function calculates the mean and covariance matrices for the dataset.\n",
        "  This function also assumes that the prior over the weights Pr(w) = N(0, I),\n",
        "  \"Zero mean, identity covariance matrix and constant noise precision Beta to be B = 1. \"\n",
        "\n",
        "  Equations:\n",
        "  Mn = Beta * Sn * PHI.T * targets\n",
        "  Sn-1 = alpha * Identity + Beta * PHI.T * PHI\n",
        "  '''\n",
        "  targets = np.squeeze(df_targets.to_numpy())\n",
        "\n",
        "  Sn_inverse = np.dot(phi_matrix.T, phi_matrix) \n",
        "\n",
        "  Sn = np.linalg.inv(Sn_inverse)\n",
        "\n",
        "  Mn = np.dot(np.dot(Sn, phi_matrix.T), targets).reshape(Sn.shape[0], 1)\n",
        "\n",
        "  return Mn, Sn\n",
        "\n",
        "def Bayesian_linear_regression_inference(df_train, df_test, df_labels, degree):\n",
        "  \n",
        "  train_array = Polynomial_feature_extraction(degree, df_train)\n",
        "  \n",
        "  mean, cova = Get_posterior_distribution_over_weights(train_array, df_labels)\n",
        "\n",
        "  test_array = Polynomial_feature_extraction(degree, df_test)\n",
        "\n",
        "  return np.dot(mean.T, test_array.T)"
      ],
      "execution_count": 9,
      "outputs": []
    },
    {
      "cell_type": "code",
      "metadata": {
        "id": "4JVeDf0YEfMk"
      },
      "source": [
        "def Get_best_degree(degree):\n",
        "  accuracy = []\n",
        "  list_acc = []\n",
        "  \n",
        "  # Loop over all the k-validations\n",
        "  for k in range(1, 10):\n",
        "    \n",
        "    y_pred = Bayesian_linear_regression_inference(training_data[k], validation_data[k],  training_labels[k], degree)\n",
        "\n",
        "    # Store accuracy for the 10 cross validations for the current degree\n",
        "    accuracy.append(mean_squared_error(y_pred.T, validation_labels[k]))\n",
        "\n",
        "  print(\"MSE on average for degree: \", degree, \", is: \", (np.sum(np.array(accuracy))/k_cross))\n",
        "  return  (np.sum(np.array(accuracy))/k_cross)\n",
        "\n",
        "def test_Bayesian_linear_regression(df_train, df_test, df_train_labels, df_test_labels, degree):\n",
        "  \n",
        "  y_pred = Bayesian_linear_regression_inference(df_train, df_test, df_train_labels, degree)\n",
        "  \n",
        "  return mean_squared_error(y_pred.T, df_test_labels)"
      ],
      "execution_count": 10,
      "outputs": []
    },
    {
      "cell_type": "code",
      "metadata": {
        "colab": {
          "base_uri": "https://localhost:8080/"
        },
        "id": "EtGNTBHDQDcx",
        "outputId": "49720e4b-3d3f-4beb-d09b-e7980c4b67b2"
      },
      "source": [
        "mse1 = Get_best_degree(degree = 1)\n",
        "mse2 = Get_best_degree(degree = 2)\n",
        "mse3 = Get_best_degree(degree = 3)\n",
        "mse4 = Get_best_degree(degree = 4)"
      ],
      "execution_count": 11,
      "outputs": [
        {
          "output_type": "stream",
          "name": "stdout",
          "text": [
            "MSE on average for degree:  1 , is:  1.0705436612926187\n",
            "MSE on average for degree:  2 , is:  0.7778335856993825\n",
            "MSE on average for degree:  3 , is:  0.08896329790546124\n",
            "MSE on average for degree:  4 , is:  0.08593005465038604\n"
          ]
        }
      ]
    },
    {
      "cell_type": "code",
      "metadata": {
        "colab": {
          "base_uri": "https://localhost:8080/",
          "height": 295
        },
        "id": "mCBGRqvzaUGl",
        "outputId": "fc8c7ea9-adb3-483a-a2e4-9d919c46a202"
      },
      "source": [
        "deg = [i for i in range(1, 5)]\n",
        "plt.title(\"Average validation MSE , 10-fold cross validation.\")\n",
        "plt.xlabel(\"degree\")\n",
        "plt.ylabel(\"Mean squared error\")\n",
        "plt.plot(deg, [mse1, mse2, mse3, mse4])\n",
        "plt.show()"
      ],
      "execution_count": 12,
      "outputs": [
        {
          "output_type": "display_data",
          "data": {
            "image/png": "[encoded data removed]",
            "text/plain": [
              "<Figure size 432x288 with 1 Axes>"
            ]
          },
          "metadata": {
            "needs_background": "light"
          }
        }
      ]
    },
    {
      "cell_type": "code",
      "metadata": {
        "colab": {
          "base_uri": "https://localhost:8080/"
        },
        "id": "lP4lsVbu2tO3",
        "outputId": "8ba57cde-e601-41da-95bb-6ce229281e20"
      },
      "source": [
        "test_Bayesian_linear_regression(tot_train_data, test_data, tot_train_labels, test_labels, 4)"
      ],
      "execution_count": 13,
      "outputs": [
        {
          "output_type": "execute_result",
          "data": {
            "text/plain": [
              "0.0420389313"
            ]
          },
          "metadata": {},
          "execution_count": 13
        }
      ]
    }
  ]
}