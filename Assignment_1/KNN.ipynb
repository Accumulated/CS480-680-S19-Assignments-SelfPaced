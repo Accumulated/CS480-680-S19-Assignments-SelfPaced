{
  "nbformat": 4,
  "nbformat_minor": 0,
  "metadata": {
    "colab": {
      "name": "KNN4.ipynb",
      "provenance": [],
      "collapsed_sections": []
    },
    "kernelspec": {
      "name": "python3",
      "display_name": "Python 3"
    },
    "language_info": {
      "name": "python"
    }
  },
  "cells": [
    {
      "cell_type": "code",
      "metadata": {
        "id": "iEZ97w8JjVQn",
        "colab": {
          "base_uri": "https://localhost:8080/",
          "height": 137
        },
        "outputId": "fbb1856a-5a25-4b7f-f848-b7aec05ff876"
      },
      "source": [
        "import pandas as pd\n",
        "import matplotlib.pyplot as plt  \n",
        "import numpy as np\n",
        "from numpy.linalg import norm\n",
        "\n",
        "from random import seed\n",
        "from random import randint\n",
        "from sklearn.metrics import accuracy_score\n",
        "\n",
        "pd.option_context('display.max_rows', None, 'display.max_columns', None)  # more options can be specified also\n",
        "    \n",
        "seed(1)\n",
        "\n",
        "np.set_printoptions(precision=10)\n",
        "\n",
        "%precision 10\n",
        "!cp -r /content/drive/MyDrive/CS_480_680_DataSets /content\n",
        "\n",
        "''' \n",
        "Dataset for K-nearest neighbour: knn-dataset.zip\n",
        "Problem: this data is a modified version of the Optical Recognition of Handwritten Digits Dataset from the UCI repository. \n",
        "It contains pre-processed black and white images of the digits 5 and 6. \n",
        "Each attribute indicates how many pixels are black in a patch of 4 x 4 pixels.\n",
        "Format: there is one row per image and one column per attribute. The class labels are 5 and 6.\n",
        "The training set is already divided into 10 subsets for 10-fold cross validation.\n",
        "\n",
        "http://archive.ics.uci.edu/ml/datasets/Optical+Recognition+of+Handwritten+Digits\n",
        "\n",
        "Data Set Information:\n",
        "\n",
        "We used preprocessing programs made available by NIST to extract normalized bitmaps of handwritten digits from a preprinted form. \n",
        "From a total of 43 people, 30 contributed to the training set and different 13 to the test set. \n",
        "32x32 bitmaps are divided into nonoverlapping blocks of 4x4 and the number of on pixels are counted in each block. \n",
        "This generates an input matrix of 8x8 where each element is an integer in the range 0..16. \n",
        "This reduces dimensionality and gives invariance to small distortions.\n",
        "\n",
        "To sum up:\n",
        "Each attribute indicates how many pixels are black in a patch of 4 x 4 pixels.\n",
        "Input matrix of 8x8 where each element is an integer in the range 0..16. \n",
        "\n",
        "'''"
      ],
      "execution_count": null,
      "outputs": [
        {
          "output_type": "execute_result",
          "data": {
            "application/vnd.google.colaboratory.intrinsic+json": {
              "type": "string"
            },
            "text/plain": [
              "' \\nDataset for K-nearest neighbour: knn-dataset.zip\\nProblem: this data is a modified version of the Optical Recognition of Handwritten Digits Dataset from the UCI repository. \\nIt contains pre-processed black and white images of the digits 5 and 6. \\nEach attribute indicates how many pixels are black in a patch of 4 x 4 pixels.\\nFormat: there is one row per image and one column per attribute. The class labels are 5 and 6.\\nThe training set is already divided into 10 subsets for 10-fold cross validation.\\n\\nhttp://archive.ics.uci.edu/ml/datasets/Optical+Recognition+of+Handwritten+Digits\\n\\nData Set Information:\\n\\nWe used preprocessing programs made available by NIST to extract normalized bitmaps of handwritten digits from a preprinted form. \\nFrom a total of 43 people, 30 contributed to the training set and different 13 to the test set. \\n32x32 bitmaps are divided into nonoverlapping blocks of 4x4 and the number of on pixels are counted in each block. \\nThis generates an input matrix of 8x8 where each element is an integer in the range 0..16. \\nThis reduces dimensionality and gives invariance to small distortions.\\n\\nTo sum up:\\nEach attribute indicates how many pixels are black in a patch of 4 x 4 pixels.\\nInput matrix of 8x8 where each element is an integer in the range 0..16. \\n\\n'"
            ]
          },
          "metadata": {},
          "execution_count": 2
        }
      ]
    },
    {
      "cell_type": "code",
      "metadata": {
        "id": "rYhzZsU-kEX5"
      },
      "source": [
        "# train.csv dataSet\n",
        "train_1 = pd.read_csv('/content/CS_480_680_DataSets/knn_dataset/trainData1.csv', header=None)\n",
        "train_2 = pd.read_csv('/content/CS_480_680_DataSets/knn_dataset/trainData2.csv', header=None)\n",
        "train_3 = pd.read_csv('/content/CS_480_680_DataSets/knn_dataset/trainData3.csv', header=None)\n",
        "train_4 = pd.read_csv('/content/CS_480_680_DataSets/knn_dataset/trainData4.csv', header=None)\n",
        "train_5 = pd.read_csv('/content/CS_480_680_DataSets/knn_dataset/trainData5.csv', header=None)\n",
        "train_6 = pd.read_csv('/content/CS_480_680_DataSets/knn_dataset/trainData6.csv', header=None)\n",
        "train_7 = pd.read_csv('/content/CS_480_680_DataSets/knn_dataset/trainData7.csv', header=None)\n",
        "train_8 = pd.read_csv('/content/CS_480_680_DataSets/knn_dataset/trainData8.csv', header=None)\n",
        "train_9 = pd.read_csv('/content/CS_480_680_DataSets/knn_dataset/trainData9.csv', header=None)\n",
        "train_10 = pd.read_csv('/content/CS_480_680_DataSets/knn_dataset/trainData10.csv', header=None)\n",
        "\n",
        "# Labels dataSet\n",
        "labels_1 = pd.read_csv('/content/CS_480_680_DataSets/knn_dataset/trainLabels1.csv', header=None)\n",
        "labels_2 = pd.read_csv('/content/CS_480_680_DataSets/knn_dataset/trainLabels2.csv', header=None)\n",
        "labels_3 = pd.read_csv('/content/CS_480_680_DataSets/knn_dataset/trainLabels3.csv', header=None)\n",
        "labels_4 = pd.read_csv('/content/CS_480_680_DataSets/knn_dataset/trainLabels4.csv', header=None)\n",
        "labels_5 = pd.read_csv('/content/CS_480_680_DataSets/knn_dataset/trainLabels5.csv', header=None)\n",
        "labels_6 = pd.read_csv('/content/CS_480_680_DataSets/knn_dataset/trainLabels6.csv', header=None)\n",
        "labels_7 = pd.read_csv('/content/CS_480_680_DataSets/knn_dataset/trainLabels7.csv', header=None)\n",
        "labels_8 = pd.read_csv('/content/CS_480_680_DataSets/knn_dataset/trainLabels8.csv', header=None)\n",
        "labels_9 = pd.read_csv('/content/CS_480_680_DataSets/knn_dataset/trainLabels9.csv', header=None)\n",
        "labels_10 = pd.read_csv('/content/CS_480_680_DataSets/knn_dataset/trainLabels10.csv', header=None)\n",
        "\n",
        "# Replace classes {'5' -> -1 and '6' -> 1}\n",
        "replace_labels = {5: -1, 6: 1}\n",
        "rename_features = {0: 'Label'}\n",
        "\n",
        "labels_1.replace(replace_labels, inplace=True)\n",
        "labels_2.replace(replace_labels, inplace=True)\n",
        "labels_3.replace(replace_labels, inplace=True)\n",
        "labels_4.replace(replace_labels, inplace=True)\n",
        "labels_5.replace(replace_labels, inplace=True)\n",
        "labels_6.replace(replace_labels, inplace=True)\n",
        "labels_7.replace(replace_labels, inplace=True)\n",
        "labels_8.replace(replace_labels, inplace=True)\n",
        "labels_9.replace(replace_labels, inplace=True)\n",
        "labels_10.replace(replace_labels, inplace=True)\n",
        "\n",
        "labels_1.rename(columns=rename_features, inplace=True)\n",
        "labels_2.rename(columns=rename_features, inplace=True)\n",
        "labels_3.rename(columns=rename_features, inplace=True)\n",
        "labels_4.rename(columns=rename_features, inplace=True)\n",
        "labels_5.rename(columns=rename_features, inplace=True)\n",
        "labels_6.rename(columns=rename_features, inplace=True)\n",
        "labels_7.rename(columns=rename_features, inplace=True)\n",
        "labels_8.rename(columns=rename_features, inplace=True)\n",
        "labels_9.rename(columns=rename_features, inplace=True)\n",
        "labels_10.rename(columns=rename_features, inplace=True)"
      ],
      "execution_count": null,
      "outputs": []
    },
    {
      "cell_type": "code",
      "metadata": {
        "id": "1Uo4hiOIquyI"
      },
      "source": [
        "train_set = [train_1, train_2, train_3, train_4, train_5, train_6, train_7, train_8, train_9, train_10]\n",
        "labels_set = [labels_1, labels_2, labels_3, labels_4, labels_5, labels_6, labels_7, labels_8, labels_9, labels_10]"
      ],
      "execution_count": null,
      "outputs": []
    },
    {
      "cell_type": "code",
      "metadata": {
        "id": "JH_rnH8slDpy"
      },
      "source": [
        "def get_rand():\n",
        "  # This function return 1 or -1 at random, it's used to break ties in\n",
        "  # KNN classifications\n",
        "  rand_num = randint(-1, 1)\n",
        "  \n",
        "  if rand_num == 0:\n",
        "    rand_num = get_rand()\n",
        "\n",
        "  return rand_num\n",
        "  \n",
        "\n",
        "# K neighbors from 1 to 30 values sweep\n",
        "k_neighbors = [i for i in range(1, 31)]\n",
        "\n",
        "# Number of trainingdata splits\n",
        "k_cross = 10\n",
        "\n",
        "# list of concatenated dataFrames; labels and corresponding feature values\n",
        "training_labels_list = []\n",
        "\n",
        "# List of dataFrames of the training data execluding the training data used for validation \n",
        "training_data = []\n",
        "training_labels = []\n",
        "\n",
        "# Same for validation data\n",
        "validation_data = []\n",
        "validation_labels = []\n",
        "\n",
        "# Get training data and validation data as list of dataFrames\n",
        "for i in range(k_cross):\n",
        "  sub_train = [train_set[index] for index in range(k_cross) if index != i]\n",
        "  sub_label = [labels_set[index] for index in range(k_cross) if index != i]\n",
        "  \n",
        "  # Concatenate all dataframes in the sub_train list to a single dataframe in order\n",
        "  # to get a single training examples dataFrame with all examples in it.\n",
        "  training_data.append(pd.concat(sub_train, ignore_index=True))\n",
        "  training_labels.append(pd.concat(sub_label, ignore_index=True))\n",
        "\n",
        "  validation_data.append(train_set[i])\n",
        "  validation_labels.append(labels_set[i])"
      ],
      "execution_count": null,
      "outputs": []
    },
    {
      "cell_type": "code",
      "metadata": {
        "id": "3N5xjWZClDhk"
      },
      "source": [
        "def predict_KNN(D, k, true_labels, x_hat):\n",
        "  '''\n",
        "  The function trains a KNN classifier using k as number of neighbors to\n",
        "  check for the nearest neighbours around a point by measuring Euclidean distance (L2 norm) \n",
        "\n",
        "  Note that there actually is no “training” phase for K-nearest neighbors.\n",
        "\n",
        "  Training is just a data memorization, so this function just calculates the L2 norm \n",
        "  and sorts the distances from the nearest to the furthest.\n",
        "\n",
        "  At training time, we simply store the entire training set. \n",
        "  At test time, we get a test example x_hat. \n",
        "  To predict its label, we find the training example x that is most similar to x_hat.\n",
        "\n",
        "  Since x is a training example, it has a corresponding label, y. \n",
        "  We predict that the label of ˆx is also y.\n",
        "\n",
        "  Args: \n",
        "  K: number of nearest neighbors used to decide which label to assign the x_hat\n",
        "  D: A dataframe that includes all training examples (x, y).\n",
        "  x_hat: an example we want to predict its label\n",
        "\n",
        "  Return: y_hat which is the label for the x_hat based on the k nearest neighbors\n",
        "\n",
        "  '''\n",
        "  # List of all L2 norm distances between x_hat and all training examples\n",
        "  L2_Norm = {}\n",
        "\n",
        "  # Calculate the Euclidean distance (L2 norm) between x_hat and all the examples\n",
        "  for index, row in D.iterrows():\n",
        "    L2_Norm[index] = norm(np.array(row) - np.array(x_hat))\n",
        "  \n",
        "  # Get the dictionary sorted\n",
        "  ordered = {k: v for k, v in sorted(L2_Norm.items(), key=lambda item: item[1])}\n",
        "  index_distance = list(ordered.items())\n",
        "\n",
        "  # Get the estimation\n",
        "  y_hat = 0\n",
        "  \n",
        "  for i in range(k):\n",
        "    index = index_distance[i][0]\n",
        "    distance = index_distance[i][1]\n",
        "    y_hat = true_labels.at[index, 'Label'] + y_hat  \n",
        "\n",
        "\n",
        "  # Make the classification\n",
        "  if y_hat == 0:\n",
        "    y_hat = get_rand()\n",
        "  \n",
        "  if y_hat >= 1:\n",
        "    y_hat = 1\n",
        "  \n",
        "  if y_hat <= -1:\n",
        "    y_hat = -1\n",
        "\n",
        "  return y_hat"
      ],
      "execution_count": null,
      "outputs": []
    },
    {
      "cell_type": "code",
      "metadata": {
        "colab": {
          "base_uri": "https://localhost:8080/"
        },
        "id": "4JVeDf0YEfMk",
        "outputId": "e85b2d11-ce9c-4247-9531-b905d0280a3a"
      },
      "source": [
        "y_estimate = []\n",
        "accuracy = []\n",
        "list_acc = []\n",
        "\n",
        "\n",
        "# Select a certain k value for K neighbors\n",
        "for k in k_neighbors:\n",
        "  # Use 10-fold cross validation\n",
        "  accuracy = []\n",
        "  for iter in range (k_cross):\n",
        "    y_estimate = []\n",
        "\n",
        "    # Loop over all examples in the current data setting\n",
        "\n",
        "    for index, row in validation_data[iter].iterrows():\n",
        "      # Get the estimate of the validation data to get accuracy\n",
        "      y_estimate.append(predict_KNN(training_data[iter], k, training_labels[iter], row))\n",
        "  \n",
        "    accuracy.append(accuracy_score(np.array(validation_labels[iter]), np.array(y_estimate)))\n",
        "\n",
        "  print(np.sum(np.array(accuracy))/k_cross)\n",
        "  list_acc.append(np.sum(np.array(accuracy))/k_cross)"
      ],
      "execution_count": null,
      "outputs": [
        {
          "output_type": "stream",
          "name": "stdout",
          "text": [
            "0.745\n",
            "0.734\n",
            "0.7870000000000001\n",
            "0.777\n",
            "0.7859999999999999\n",
            "0.767\n",
            "0.7929999999999999\n",
            "0.7879999999999999\n",
            "0.806\n",
            "0.8029999999999999\n",
            "0.794\n",
            "0.7939999999999999\n",
            "0.795\n",
            "0.799\n",
            "0.795\n",
            "0.806\n",
            "0.808\n",
            "0.8039999999999999\n",
            "0.8140000000000001\n",
            "0.8029999999999999\n",
            "0.806\n",
            "0.8160000000000001\n",
            "0.808\n",
            "0.8009999999999999\n",
            "0.8019999999999999\n",
            "0.8019999999999999\n",
            "0.8029999999999999\n",
            "0.806\n",
            "0.8020000000000002\n",
            "0.797\n"
          ]
        }
      ]
    },
    {
      "cell_type": "code",
      "metadata": {
        "colab": {
          "base_uri": "https://localhost:8080/",
          "height": 295
        },
        "id": "uSFK_3NpLbw2",
        "outputId": "167f4342-928e-4f5f-9094-fe201d5655f2"
      },
      "source": [
        "plt.title(\"Average prediction accuracy vs choice of k, 10-fold cross validation.\")\n",
        "plt.xlabel(\"k\")\n",
        "plt.ylabel(\"Accuracy\")\n",
        "plt.plot(k_neighbors, list_acc)\n",
        "plt.show()"
      ],
      "execution_count": null,
      "outputs": [
        {
          "output_type": "display_data",
          "data": {
            "image/png": "[encoded data removed]",
            "text/plain": [
              "<Figure size 432x288 with 1 Axes>"
            ]
          },
          "metadata": {
            "needs_background": "light"
          }
        }
      ]
    },
    {
      "cell_type": "code",
      "metadata": {
        "colab": {
          "base_uri": "https://localhost:8080/"
        },
        "id": "3E6ymPbyj_r4",
        "outputId": "1964ad37-b372-4c8c-bf3f-4ac518f4a38f"
      },
      "source": [
        "plot_me = {}\n",
        "i = 0\n",
        "for ind in list_acc:\n",
        "  i += 1\n",
        "  plot_me[i] = ind\n",
        "\n",
        "  \n",
        "ordered = {k: v for k, v in sorted(plot_me.items(), key=lambda item: item[1], reverse=True)}\n",
        "plot_o = list(ordered.items())\n",
        "print(\"Best K is at: \", plot_o[0][0], \", With Accuracy: \",  plot_o[0][1])"
      ],
      "execution_count": null,
      "outputs": [
        {
          "output_type": "stream",
          "name": "stdout",
          "text": [
            "[(22, 0.8160000000000001), (19, 0.8140000000000001), (17, 0.808), (23, 0.808), (9, 0.806), (16, 0.806), (21, 0.806), (28, 0.806), (18, 0.8039999999999999), (10, 0.8029999999999999), (20, 0.8029999999999999), (27, 0.8029999999999999), (29, 0.8020000000000002), (25, 0.8019999999999999), (26, 0.8019999999999999), (24, 0.8009999999999999), (14, 0.799), (30, 0.797), (13, 0.795), (15, 0.795), (11, 0.794), (12, 0.7939999999999999), (7, 0.7929999999999999), (8, 0.7879999999999999), (3, 0.7870000000000001), (5, 0.7859999999999999), (4, 0.777), (6, 0.767), (1, 0.745), (2, 0.734)]\n"
          ]
        }
      ]
    }
  ]
}