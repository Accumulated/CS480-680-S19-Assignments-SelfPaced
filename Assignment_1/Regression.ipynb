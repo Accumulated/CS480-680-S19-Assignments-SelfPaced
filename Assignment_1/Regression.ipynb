{
  "nbformat": 4,
  "nbformat_minor": 0,
  "metadata": {
    "colab": {
      "name": "Regression1.ipynb",
      "provenance": [],
      "collapsed_sections": []
    },
    "kernelspec": {
      "name": "python3",
      "display_name": "Python 3"
    },
    "language_info": {
      "name": "python"
    }
  },
  "cells": [
    {
      "cell_type": "code",
      "metadata": {
        "colab": {
          "base_uri": "https://localhost:8080/",
          "height": 52
        },
        "id": "F3oLpLZjwi7N",
        "outputId": "62428f9e-d9ee-4382-989b-0fff290d4046"
      },
      "source": [
        "import pandas as pd\n",
        "import matplotlib.pyplot as plt  \n",
        "import numpy as np\n",
        "from numpy.linalg import norm\n",
        "\n",
        "from random import seed\n",
        "from random import randint\n",
        "from sklearn.metrics import accuracy_score\n",
        "\n",
        "pd.option_context('display.max_rows', None, 'display.max_columns', None)  # more options can be specified also\n",
        "    \n",
        "seed(1)\n",
        "\n",
        "np.set_printoptions(precision=10)\n",
        "\n",
        "%precision 10\n",
        "!cp -r /content/drive/MyDrive/CS_480_680_DataSets /content\n",
        "\n",
        "'''\n",
        "Format: there is one row per data instance and one column per attribute. \n",
        "The targets are real values.\n",
        "The training set is already divided into 10 subsets for 10-fold cross validation.\n",
        "\n",
        "'''"
      ],
      "execution_count": 1,
      "outputs": [
        {
          "output_type": "execute_result",
          "data": {
            "application/vnd.google.colaboratory.intrinsic+json": {
              "type": "string"
            },
            "text/plain": [
              "'\\nFormat: there is one row per data instance and one column per attribute. \\nThe targets are real values.\\nThe training set is already divided into 10 subsets for 10-fold cross validation.\\n\\n'"
            ]
          },
          "metadata": {},
          "execution_count": 1
        }
      ]
    },
    {
      "cell_type": "code",
      "metadata": {
        "id": "Toh2JGuR9izK"
      },
      "source": [
        "# train.csv dataSet\n",
        "train_1 = pd.read_csv('/content/CS_480_680_DataSets/regression_dataset/trainInput1.csv', header=None)\n",
        "train_2 = pd.read_csv('/content/CS_480_680_DataSets/regression_dataset/trainInput2.csv', header=None)\n",
        "train_3 = pd.read_csv('/content/CS_480_680_DataSets/regression_dataset/trainInput3.csv', header=None)\n",
        "train_4 = pd.read_csv('/content/CS_480_680_DataSets/regression_dataset/trainInput4.csv', header=None)\n",
        "train_5 = pd.read_csv('/content/CS_480_680_DataSets/regression_dataset/trainInput5.csv', header=None)\n",
        "train_6 = pd.read_csv('/content/CS_480_680_DataSets/regression_dataset/trainInput6.csv', header=None)\n",
        "train_7 = pd.read_csv('/content/CS_480_680_DataSets/regression_dataset/trainInput7.csv', header=None)\n",
        "train_8 = pd.read_csv('/content/CS_480_680_DataSets/regression_dataset/trainInput8.csv', header=None)\n",
        "train_9 = pd.read_csv('/content/CS_480_680_DataSets/regression_dataset/trainInput9.csv', header=None)\n",
        "train_10 = pd.read_csv('/content/CS_480_680_DataSets/regression_dataset/trainInput10.csv', header=None)\n",
        "\n",
        "# Labels dataSet\n",
        "labels_1 = pd.read_csv('/content/CS_480_680_DataSets/regression_dataset/trainTarget1.csv', header=None)\n",
        "labels_2 = pd.read_csv('/content/CS_480_680_DataSets/regression_dataset/trainTarget2.csv', header=None)\n",
        "labels_3 = pd.read_csv('/content/CS_480_680_DataSets/regression_dataset/trainTarget3.csv', header=None)\n",
        "labels_4 = pd.read_csv('/content/CS_480_680_DataSets/regression_dataset/trainTarget4.csv', header=None)\n",
        "labels_5 = pd.read_csv('/content/CS_480_680_DataSets/regression_dataset/trainTarget5.csv', header=None)\n",
        "labels_6 = pd.read_csv('/content/CS_480_680_DataSets/regression_dataset/trainTarget6.csv', header=None)\n",
        "labels_7 = pd.read_csv('/content/CS_480_680_DataSets/regression_dataset/trainTarget7.csv', header=None)\n",
        "labels_8 = pd.read_csv('/content/CS_480_680_DataSets/regression_dataset/trainTarget8.csv', header=None)\n",
        "labels_9 = pd.read_csv('/content/CS_480_680_DataSets/regression_dataset/trainTarget9.csv', header=None)\n",
        "labels_10 = pd.read_csv('/content/CS_480_680_DataSets/regression_dataset/trainTarget10.csv', header=None)\n",
        "\n",
        "# Replace classes {'5' -> -1 and '6' -> 1}\n",
        "replace_labels = {5: -1, 6: 1}\n",
        "rename_features = {0: 'Label'}\n",
        "\n",
        "labels_1.replace(replace_labels, inplace=True)\n",
        "labels_2.replace(replace_labels, inplace=True)\n",
        "labels_3.replace(replace_labels, inplace=True)\n",
        "labels_4.replace(replace_labels, inplace=True)\n",
        "labels_5.replace(replace_labels, inplace=True)\n",
        "labels_6.replace(replace_labels, inplace=True)\n",
        "labels_7.replace(replace_labels, inplace=True)\n",
        "labels_8.replace(replace_labels, inplace=True)\n",
        "labels_9.replace(replace_labels, inplace=True)\n",
        "labels_10.replace(replace_labels, inplace=True)\n",
        "\n",
        "labels_1.rename(columns=rename_features, inplace=True)\n",
        "labels_2.rename(columns=rename_features, inplace=True)\n",
        "labels_3.rename(columns=rename_features, inplace=True)\n",
        "labels_4.rename(columns=rename_features, inplace=True)\n",
        "labels_5.rename(columns=rename_features, inplace=True)\n",
        "labels_6.rename(columns=rename_features, inplace=True)\n",
        "labels_7.rename(columns=rename_features, inplace=True)\n",
        "labels_8.rename(columns=rename_features, inplace=True)\n",
        "labels_9.rename(columns=rename_features, inplace=True)\n",
        "labels_10.rename(columns=rename_features, inplace=True)"
      ],
      "execution_count": 2,
      "outputs": []
    },
    {
      "cell_type": "code",
      "metadata": {
        "id": "bucurB-v_FUi"
      },
      "source": [
        "train_set = [train_1, train_2, train_3, train_4, train_5, train_6, train_7, train_8, train_9, train_10]\n",
        "labels_set = [labels_1, labels_2, labels_3, labels_4, labels_5, labels_6, labels_7, labels_8, labels_9, labels_10]"
      ],
      "execution_count": 3,
      "outputs": []
    },
    {
      "cell_type": "code",
      "metadata": {
        "id": "w-ZJC5Ng_dg0"
      },
      "source": [
        "# K neighbors from 1 to 30 values sweep\n",
        "lambda_values = np.arange(0.0, 4.1, 0.1)\n",
        "\n",
        "# Number of trainingdata splits\n",
        "k_cross = 10\n",
        "\n",
        "# List of dataFrames of the training data execluding the training data used for validation \n",
        "training_data = []\n",
        "training_labels = []\n",
        "\n",
        "# Same for validation data\n",
        "validation_data = []\n",
        "validation_labels = []\n",
        "\n",
        "# Get training data and validation data as list of dataFrames\n",
        "for i in range(k_cross):\n",
        "  sub_train = [train_set[index] for index in range(k_cross) if index != i]\n",
        "  sub_label = [labels_set[index] for index in range(k_cross) if index != i]\n",
        "  \n",
        "  # Concatenate all dataframes in the sub_train list to a single dataframe in order\n",
        "  # to get a single training examples dataFrame with all examples in it.\n",
        "  training_data.append(pd.concat(sub_train, ignore_index=True))\n",
        "  training_labels.append(pd.concat(sub_label, ignore_index=True))\n",
        "\n",
        "  validation_data.append(train_set[i])\n",
        "  validation_labels.append(labels_set[i])"
      ],
      "execution_count": 4,
      "outputs": []
    },
    {
      "cell_type": "code",
      "metadata": {
        "id": "Fzv2YyMtDBSP"
      },
      "source": [
        "def Get_Weights(tr_data, tr_labels, lambda_val):\n",
        "  '''\n",
        "  This function solves the equation (lambda * I + A) * W = b\n",
        "  Where: Lambda is a given numeric value\n",
        "  A: is the examples matrix with shape N examples * M features\n",
        "  W: is the unknown matrix with shape M features * 1\n",
        "  b: is the target matrix with shape N examples * 1\n",
        "  '''\n",
        "  # Get all features in the data frame; shape (N examples, M feature values)\n",
        "  X_features = tr_data.to_numpy()\n",
        "  Y_Labels = tr_labels.to_numpy()\n",
        "\n",
        "  # Get number of examples\n",
        "  Number_of_examples = X_features.shape[0]\n",
        "  \n",
        "  # W0, this is the free term in the equation: y = W0 + W1 * X1 + W2 * X2\n",
        "  all_ones = np.reshape(np.ones(Number_of_examples), [Number_of_examples, 1])\n",
        "\n",
        "  # Modify the features matrix (N examples, M feature values + 1)\n",
        "  X_features_Modified = np.concatenate((all_ones, X_features), axis=1)\n",
        "  \n",
        "  # A matrix is (M feature values + 1, N examples) * ((N examples, M feature values + 1))\n",
        "  A_mat = np.matmul(X_features_Modified.T, X_features_Modified)\n",
        "  # Get lambda * Identity matrix\n",
        "  I = np.identity(A_mat.shape[0]) * lambda_val\n",
        "\n",
        "  # Calculate the left side in the equation: (lambda * Identity + A)\n",
        "  first_term = (I + A_mat)\n",
        "  # Calculate the right side in the equation: (b)\n",
        "  b = np.matmul(X_features_Modified.T, Y_Labels)\n",
        "\n",
        "  # Apply least square regression to get the weights\n",
        "  w = np.linalg.lstsq(I, b, rcond = None)[0]\n",
        "  first_term = np.linalg.inv(first_term)\n",
        "  second_term = b\n",
        "  w = np.matmul(first_term, second_term)\n",
        "  \n",
        "  return w\n",
        "\n",
        "def Get_Estimate(weights, ts_data):\n",
        "  # Get all features in the data frame; shape (N , M feature values)\n",
        "  X_features = ts_data.to_numpy()\n",
        "\n",
        "  # Get number of examples\n",
        "  Number_of_examples = X_features.shape[0]\n",
        "  \n",
        "  # W0, this is the free term in the equation: y = W0 + W1 * X1 + W2 * X2\n",
        "  all_ones = np.reshape(np.ones(Number_of_examples), [Number_of_examples, 1])\n",
        "\n",
        "  # Modify the features matrix (N examples, M feature values + 1)\n",
        "  X_features_Modified = np.concatenate((all_ones, X_features), axis=1)\n",
        "  \n",
        "  # Return the product of (N, M+1) * (M+1 * 1) = (N * 1)\n",
        "  y_hat = np.dot(X_features_Modified, weights)\n",
        "  return y_hat"
      ],
      "execution_count": 5,
      "outputs": []
    },
    {
      "cell_type": "code",
      "metadata": {
        "id": "HfST9Nhcwfjq"
      },
      "source": [
        "y_estimate = []\n",
        "accuracy = []\n",
        "list_acc = []\n",
        "\n",
        "\n",
        "# Select a certain k value for K neighbors\n",
        "for lamb in lambda_values:\n",
        "  # Use 10-fold cross validation\n",
        "  accuracy = []\n",
        "  for iter in range (k_cross):\n",
        "    y_estimate = []\n",
        "    # Loop over all examples in the current data setting\n",
        "\n",
        "    # Get the estimate of the validation data to get accuracy\n",
        "    tmp_weights = Get_Weights(training_data[iter], training_labels[iter], lamb)\n",
        "    y_est = Get_Estimate(tmp_weights, validation_data[iter])\n",
        "    loss = np.linalg.norm(y_est - validation_labels[iter].to_numpy())**2\n",
        "    accuracy.append(loss)\n",
        "\n",
        "  list_acc.append(np.sum(np.array(accuracy))/k_cross)"
      ],
      "execution_count": 6,
      "outputs": []
    },
    {
      "cell_type": "code",
      "metadata": {
        "colab": {
          "base_uri": "https://localhost:8080/",
          "height": 295
        },
        "id": "zGL56ja6SXYx",
        "outputId": "8ea18c55-9699-499d-d431-dae98ea4be67"
      },
      "source": [
        "plt.title(\"Eucleadian loss vs choice of lambda, 10-fold cross validation.\")\n",
        "plt.xlabel(\"lambda\")\n",
        "plt.ylabel(\"Euclidean loss\")\n",
        "plt.plot(lambda_values, list_acc)\n",
        "plt.show()"
      ],
      "execution_count": 7,
      "outputs": [
        {
          "output_type": "display_data",
          "data": {
            "image/png": "[encoded data removed]",
            "text/plain": [
              "<Figure size 432x288 with 1 Axes>"
            ]
          },
          "metadata": {
            "needs_background": "light"
          }
        }
      ]
    },
    {
      "cell_type": "code",
      "metadata": {
        "colab": {
          "base_uri": "https://localhost:8080/"
        },
        "id": "f210qkkkp3PJ",
        "outputId": "37cb8f14-c811-4a8e-a634-02128c82d796"
      },
      "source": [
        "plot_me = {}\n",
        "i = 0\n",
        "for ind in list_acc:\n",
        "  i += 1/10\n",
        "  plot_me[i] = ind\n",
        "\n",
        "  \n",
        "ordered = {k: v for k, v in sorted(plot_me.items(), key=lambda item: item[1])}\n",
        "plot_o = list(ordered.items())\n",
        "print(\"Best lambda is at: \", plot_o[0][0], \", With Euclidean loss: \",  plot_o[0][1])"
      ],
      "execution_count": 8,
      "outputs": [
        {
          "output_type": "stream",
          "name": "stdout",
          "text": [
            "Best lambda is at:  1.4000000000000001 , With Euclidean loss:  26.921334161003433\n"
          ]
        }
      ]
    }
  ]
}